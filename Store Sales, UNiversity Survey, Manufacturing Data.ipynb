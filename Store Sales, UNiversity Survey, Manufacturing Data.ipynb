{
 "cells": [
  {
   "cell_type": "code",
   "execution_count": 1,
   "id": "76467d38",
   "metadata": {},
   "outputs": [],
   "source": [
    "import numpy as np\n",
    "import pandas as pd\n",
    "import math as math\n",
    "import matplotlib.pyplot as plt\n",
    "import seaborn as sns\n",
    "sns.set()\n",
    "import scipy.stats as stats\n",
    "import statsmodels.api as sm"
   ]
  },
  {
   "cell_type": "code",
   "execution_count": 2,
   "id": "2dd198ad",
   "metadata": {},
   "outputs": [],
   "source": [
    "wca=pd.read_csv('Wholesale+Customers+Data.csv')"
   ]
  },
  {
   "cell_type": "code",
   "execution_count": 3,
   "id": "27b2e2ad",
   "metadata": {},
   "outputs": [
    {
     "data": {
      "text/html": [
       "<div>\n",
       "<style scoped>\n",
       "    .dataframe tbody tr th:only-of-type {\n",
       "        vertical-align: middle;\n",
       "    }\n",
       "\n",
       "    .dataframe tbody tr th {\n",
       "        vertical-align: top;\n",
       "    }\n",
       "\n",
       "    .dataframe thead th {\n",
       "        text-align: right;\n",
       "    }\n",
       "</style>\n",
       "<table border=\"1\" class=\"dataframe\">\n",
       "  <thead>\n",
       "    <tr style=\"text-align: right;\">\n",
       "      <th></th>\n",
       "      <th>Buyer/Spender</th>\n",
       "      <th>Channel</th>\n",
       "      <th>Region</th>\n",
       "      <th>Fresh</th>\n",
       "      <th>Milk</th>\n",
       "      <th>Grocery</th>\n",
       "      <th>Frozen</th>\n",
       "      <th>Detergents_Paper</th>\n",
       "      <th>Delicatessen</th>\n",
       "    </tr>\n",
       "  </thead>\n",
       "  <tbody>\n",
       "    <tr>\n",
       "      <th>0</th>\n",
       "      <td>1</td>\n",
       "      <td>Retail</td>\n",
       "      <td>Other</td>\n",
       "      <td>12669</td>\n",
       "      <td>9656</td>\n",
       "      <td>7561</td>\n",
       "      <td>214</td>\n",
       "      <td>2674</td>\n",
       "      <td>1338</td>\n",
       "    </tr>\n",
       "    <tr>\n",
       "      <th>1</th>\n",
       "      <td>2</td>\n",
       "      <td>Retail</td>\n",
       "      <td>Other</td>\n",
       "      <td>7057</td>\n",
       "      <td>9810</td>\n",
       "      <td>9568</td>\n",
       "      <td>1762</td>\n",
       "      <td>3293</td>\n",
       "      <td>1776</td>\n",
       "    </tr>\n",
       "    <tr>\n",
       "      <th>2</th>\n",
       "      <td>3</td>\n",
       "      <td>Retail</td>\n",
       "      <td>Other</td>\n",
       "      <td>6353</td>\n",
       "      <td>8808</td>\n",
       "      <td>7684</td>\n",
       "      <td>2405</td>\n",
       "      <td>3516</td>\n",
       "      <td>7844</td>\n",
       "    </tr>\n",
       "    <tr>\n",
       "      <th>3</th>\n",
       "      <td>4</td>\n",
       "      <td>Hotel</td>\n",
       "      <td>Other</td>\n",
       "      <td>13265</td>\n",
       "      <td>1196</td>\n",
       "      <td>4221</td>\n",
       "      <td>6404</td>\n",
       "      <td>507</td>\n",
       "      <td>1788</td>\n",
       "    </tr>\n",
       "    <tr>\n",
       "      <th>4</th>\n",
       "      <td>5</td>\n",
       "      <td>Retail</td>\n",
       "      <td>Other</td>\n",
       "      <td>22615</td>\n",
       "      <td>5410</td>\n",
       "      <td>7198</td>\n",
       "      <td>3915</td>\n",
       "      <td>1777</td>\n",
       "      <td>5185</td>\n",
       "    </tr>\n",
       "  </tbody>\n",
       "</table>\n",
       "</div>"
      ],
      "text/plain": [
       "   Buyer/Spender Channel Region  Fresh  Milk  Grocery  Frozen  \\\n",
       "0              1  Retail  Other  12669  9656     7561     214   \n",
       "1              2  Retail  Other   7057  9810     9568    1762   \n",
       "2              3  Retail  Other   6353  8808     7684    2405   \n",
       "3              4   Hotel  Other  13265  1196     4221    6404   \n",
       "4              5  Retail  Other  22615  5410     7198    3915   \n",
       "\n",
       "   Detergents_Paper  Delicatessen  \n",
       "0              2674          1338  \n",
       "1              3293          1776  \n",
       "2              3516          7844  \n",
       "3               507          1788  \n",
       "4              1777          5185  "
      ]
     },
     "execution_count": 3,
     "metadata": {},
     "output_type": "execute_result"
    }
   ],
   "source": [
    "wca.head()"
   ]
  },
  {
   "cell_type": "code",
   "execution_count": 4,
   "id": "128057ba",
   "metadata": {},
   "outputs": [
    {
     "data": {
      "text/plain": [
       "Buyer/Spender       0\n",
       "Channel             0\n",
       "Region              0\n",
       "Fresh               0\n",
       "Milk                0\n",
       "Grocery             0\n",
       "Frozen              0\n",
       "Detergents_Paper    0\n",
       "Delicatessen        0\n",
       "dtype: int64"
      ]
     },
     "execution_count": 4,
     "metadata": {},
     "output_type": "execute_result"
    }
   ],
   "source": [
    "wca.isnull().sum()"
   ]
  },
  {
   "cell_type": "markdown",
   "id": "44b5b667",
   "metadata": {},
   "source": [
    "#### 1.1 Use methods of descriptive statistics to summarize data. Which Region and which Channel spent the most? Which Region and which Channel spent the least?"
   ]
  },
  {
   "cell_type": "code",
   "execution_count": 5,
   "id": "45cdff12",
   "metadata": {},
   "outputs": [],
   "source": [
    "des_summ=wca.describe()"
   ]
  },
  {
   "cell_type": "code",
   "execution_count": 6,
   "id": "602c805f",
   "metadata": {},
   "outputs": [
    {
     "data": {
      "text/html": [
       "<div>\n",
       "<style scoped>\n",
       "    .dataframe tbody tr th:only-of-type {\n",
       "        vertical-align: middle;\n",
       "    }\n",
       "\n",
       "    .dataframe tbody tr th {\n",
       "        vertical-align: top;\n",
       "    }\n",
       "\n",
       "    .dataframe thead th {\n",
       "        text-align: right;\n",
       "    }\n",
       "</style>\n",
       "<table border=\"1\" class=\"dataframe\">\n",
       "  <thead>\n",
       "    <tr style=\"text-align: right;\">\n",
       "      <th></th>\n",
       "      <th>Fresh</th>\n",
       "      <th>Milk</th>\n",
       "      <th>Grocery</th>\n",
       "      <th>Frozen</th>\n",
       "      <th>Detergents_Paper</th>\n",
       "      <th>Delicatessen</th>\n",
       "    </tr>\n",
       "  </thead>\n",
       "  <tbody>\n",
       "    <tr>\n",
       "      <th>count</th>\n",
       "      <td>440.000000</td>\n",
       "      <td>440.000000</td>\n",
       "      <td>440.000000</td>\n",
       "      <td>440.000000</td>\n",
       "      <td>440.000000</td>\n",
       "      <td>440.000000</td>\n",
       "    </tr>\n",
       "    <tr>\n",
       "      <th>mean</th>\n",
       "      <td>12000.297727</td>\n",
       "      <td>5796.265909</td>\n",
       "      <td>7951.277273</td>\n",
       "      <td>3071.931818</td>\n",
       "      <td>2881.493182</td>\n",
       "      <td>1524.870455</td>\n",
       "    </tr>\n",
       "    <tr>\n",
       "      <th>std</th>\n",
       "      <td>12647.328865</td>\n",
       "      <td>7380.377175</td>\n",
       "      <td>9503.162829</td>\n",
       "      <td>4854.673333</td>\n",
       "      <td>4767.854448</td>\n",
       "      <td>2820.105937</td>\n",
       "    </tr>\n",
       "    <tr>\n",
       "      <th>min</th>\n",
       "      <td>3.000000</td>\n",
       "      <td>55.000000</td>\n",
       "      <td>3.000000</td>\n",
       "      <td>25.000000</td>\n",
       "      <td>3.000000</td>\n",
       "      <td>3.000000</td>\n",
       "    </tr>\n",
       "    <tr>\n",
       "      <th>25%</th>\n",
       "      <td>3127.750000</td>\n",
       "      <td>1533.000000</td>\n",
       "      <td>2153.000000</td>\n",
       "      <td>742.250000</td>\n",
       "      <td>256.750000</td>\n",
       "      <td>408.250000</td>\n",
       "    </tr>\n",
       "    <tr>\n",
       "      <th>50%</th>\n",
       "      <td>8504.000000</td>\n",
       "      <td>3627.000000</td>\n",
       "      <td>4755.500000</td>\n",
       "      <td>1526.000000</td>\n",
       "      <td>816.500000</td>\n",
       "      <td>965.500000</td>\n",
       "    </tr>\n",
       "    <tr>\n",
       "      <th>75%</th>\n",
       "      <td>16933.750000</td>\n",
       "      <td>7190.250000</td>\n",
       "      <td>10655.750000</td>\n",
       "      <td>3554.250000</td>\n",
       "      <td>3922.000000</td>\n",
       "      <td>1820.250000</td>\n",
       "    </tr>\n",
       "    <tr>\n",
       "      <th>max</th>\n",
       "      <td>112151.000000</td>\n",
       "      <td>73498.000000</td>\n",
       "      <td>92780.000000</td>\n",
       "      <td>60869.000000</td>\n",
       "      <td>40827.000000</td>\n",
       "      <td>47943.000000</td>\n",
       "    </tr>\n",
       "  </tbody>\n",
       "</table>\n",
       "</div>"
      ],
      "text/plain": [
       "               Fresh          Milk       Grocery        Frozen  \\\n",
       "count     440.000000    440.000000    440.000000    440.000000   \n",
       "mean    12000.297727   5796.265909   7951.277273   3071.931818   \n",
       "std     12647.328865   7380.377175   9503.162829   4854.673333   \n",
       "min         3.000000     55.000000      3.000000     25.000000   \n",
       "25%      3127.750000   1533.000000   2153.000000    742.250000   \n",
       "50%      8504.000000   3627.000000   4755.500000   1526.000000   \n",
       "75%     16933.750000   7190.250000  10655.750000   3554.250000   \n",
       "max    112151.000000  73498.000000  92780.000000  60869.000000   \n",
       "\n",
       "       Detergents_Paper  Delicatessen  \n",
       "count        440.000000    440.000000  \n",
       "mean        2881.493182   1524.870455  \n",
       "std         4767.854448   2820.105937  \n",
       "min            3.000000      3.000000  \n",
       "25%          256.750000    408.250000  \n",
       "50%          816.500000    965.500000  \n",
       "75%         3922.000000   1820.250000  \n",
       "max        40827.000000  47943.000000  "
      ]
     },
     "execution_count": 6,
     "metadata": {},
     "output_type": "execute_result"
    }
   ],
   "source": [
    "des_summ.drop('Buyer/Spender',axis=1)"
   ]
  },
  {
   "cell_type": "code",
   "execution_count": 7,
   "id": "422a4e19",
   "metadata": {},
   "outputs": [],
   "source": [
    "total=wca.groupby('Region')[['Fresh','Milk','Grocery','Frozen','Detergents_Paper','Delicatessen']].sum()"
   ]
  },
  {
   "cell_type": "code",
   "execution_count": 8,
   "id": "0c75fc94",
   "metadata": {},
   "outputs": [
    {
     "data": {
      "text/html": [
       "<div>\n",
       "<style scoped>\n",
       "    .dataframe tbody tr th:only-of-type {\n",
       "        vertical-align: middle;\n",
       "    }\n",
       "\n",
       "    .dataframe tbody tr th {\n",
       "        vertical-align: top;\n",
       "    }\n",
       "\n",
       "    .dataframe thead th {\n",
       "        text-align: right;\n",
       "    }\n",
       "</style>\n",
       "<table border=\"1\" class=\"dataframe\">\n",
       "  <thead>\n",
       "    <tr style=\"text-align: right;\">\n",
       "      <th></th>\n",
       "      <th>Fresh</th>\n",
       "      <th>Milk</th>\n",
       "      <th>Grocery</th>\n",
       "      <th>Frozen</th>\n",
       "      <th>Detergents_Paper</th>\n",
       "      <th>Delicatessen</th>\n",
       "    </tr>\n",
       "    <tr>\n",
       "      <th>Region</th>\n",
       "      <th></th>\n",
       "      <th></th>\n",
       "      <th></th>\n",
       "      <th></th>\n",
       "      <th></th>\n",
       "      <th></th>\n",
       "    </tr>\n",
       "  </thead>\n",
       "  <tbody>\n",
       "    <tr>\n",
       "      <th>Lisbon</th>\n",
       "      <td>854833</td>\n",
       "      <td>422454</td>\n",
       "      <td>570037</td>\n",
       "      <td>231026</td>\n",
       "      <td>204136</td>\n",
       "      <td>104327</td>\n",
       "    </tr>\n",
       "    <tr>\n",
       "      <th>Oporto</th>\n",
       "      <td>464721</td>\n",
       "      <td>239144</td>\n",
       "      <td>433274</td>\n",
       "      <td>190132</td>\n",
       "      <td>173311</td>\n",
       "      <td>54506</td>\n",
       "    </tr>\n",
       "    <tr>\n",
       "      <th>Other</th>\n",
       "      <td>3960577</td>\n",
       "      <td>1888759</td>\n",
       "      <td>2495251</td>\n",
       "      <td>930492</td>\n",
       "      <td>890410</td>\n",
       "      <td>512110</td>\n",
       "    </tr>\n",
       "  </tbody>\n",
       "</table>\n",
       "</div>"
      ],
      "text/plain": [
       "          Fresh     Milk  Grocery  Frozen  Detergents_Paper  Delicatessen\n",
       "Region                                                                   \n",
       "Lisbon   854833   422454   570037  231026            204136        104327\n",
       "Oporto   464721   239144   433274  190132            173311         54506\n",
       "Other   3960577  1888759  2495251  930492            890410        512110"
      ]
     },
     "execution_count": 8,
     "metadata": {},
     "output_type": "execute_result"
    }
   ],
   "source": [
    "total"
   ]
  },
  {
   "cell_type": "code",
   "execution_count": 9,
   "id": "186e0f7d",
   "metadata": {},
   "outputs": [],
   "source": [
    "t_total=total.T"
   ]
  },
  {
   "cell_type": "code",
   "execution_count": 10,
   "id": "2132e40d",
   "metadata": {},
   "outputs": [],
   "source": [
    "t_total.loc['Grand Total',:]=t_total.sum()"
   ]
  },
  {
   "cell_type": "code",
   "execution_count": 11,
   "id": "5a4e2bd2",
   "metadata": {},
   "outputs": [
    {
     "data": {
      "text/html": [
       "<div>\n",
       "<style scoped>\n",
       "    .dataframe tbody tr th:only-of-type {\n",
       "        vertical-align: middle;\n",
       "    }\n",
       "\n",
       "    .dataframe tbody tr th {\n",
       "        vertical-align: top;\n",
       "    }\n",
       "\n",
       "    .dataframe thead th {\n",
       "        text-align: right;\n",
       "    }\n",
       "</style>\n",
       "<table border=\"1\" class=\"dataframe\">\n",
       "  <thead>\n",
       "    <tr style=\"text-align: right;\">\n",
       "      <th>Region</th>\n",
       "      <th>Lisbon</th>\n",
       "      <th>Oporto</th>\n",
       "      <th>Other</th>\n",
       "    </tr>\n",
       "  </thead>\n",
       "  <tbody>\n",
       "    <tr>\n",
       "      <th>Fresh</th>\n",
       "      <td>854833.0</td>\n",
       "      <td>464721.0</td>\n",
       "      <td>3960577.0</td>\n",
       "    </tr>\n",
       "    <tr>\n",
       "      <th>Milk</th>\n",
       "      <td>422454.0</td>\n",
       "      <td>239144.0</td>\n",
       "      <td>1888759.0</td>\n",
       "    </tr>\n",
       "    <tr>\n",
       "      <th>Grocery</th>\n",
       "      <td>570037.0</td>\n",
       "      <td>433274.0</td>\n",
       "      <td>2495251.0</td>\n",
       "    </tr>\n",
       "    <tr>\n",
       "      <th>Frozen</th>\n",
       "      <td>231026.0</td>\n",
       "      <td>190132.0</td>\n",
       "      <td>930492.0</td>\n",
       "    </tr>\n",
       "    <tr>\n",
       "      <th>Detergents_Paper</th>\n",
       "      <td>204136.0</td>\n",
       "      <td>173311.0</td>\n",
       "      <td>890410.0</td>\n",
       "    </tr>\n",
       "    <tr>\n",
       "      <th>Delicatessen</th>\n",
       "      <td>104327.0</td>\n",
       "      <td>54506.0</td>\n",
       "      <td>512110.0</td>\n",
       "    </tr>\n",
       "    <tr>\n",
       "      <th>Grand Total</th>\n",
       "      <td>2386813.0</td>\n",
       "      <td>1555088.0</td>\n",
       "      <td>10677599.0</td>\n",
       "    </tr>\n",
       "  </tbody>\n",
       "</table>\n",
       "</div>"
      ],
      "text/plain": [
       "Region               Lisbon     Oporto       Other\n",
       "Fresh              854833.0   464721.0   3960577.0\n",
       "Milk               422454.0   239144.0   1888759.0\n",
       "Grocery            570037.0   433274.0   2495251.0\n",
       "Frozen             231026.0   190132.0    930492.0\n",
       "Detergents_Paper   204136.0   173311.0    890410.0\n",
       "Delicatessen       104327.0    54506.0    512110.0\n",
       "Grand Total       2386813.0  1555088.0  10677599.0"
      ]
     },
     "execution_count": 11,
     "metadata": {},
     "output_type": "execute_result"
    }
   ],
   "source": [
    "t_total"
   ]
  },
  {
   "cell_type": "code",
   "execution_count": 12,
   "id": "d58d7004",
   "metadata": {},
   "outputs": [
    {
     "data": {
      "image/png": "[encoded data removed]",
      "text/plain": [
       "<Figure size 432x288 with 1 Axes>"
      ]
     },
     "metadata": {},
     "output_type": "display_data"
    }
   ],
   "source": [
    "sns.barplot(data=t_total);"
   ]
  },
  {
   "cell_type": "code",
   "execution_count": 13,
   "id": "2e1eaef6",
   "metadata": {},
   "outputs": [],
   "source": [
    "chn_tot=wca.groupby('Channel')[['Fresh','Milk','Grocery','Frozen','Detergents_Paper','Delicatessen']].sum()"
   ]
  },
  {
   "cell_type": "code",
   "execution_count": 14,
   "id": "72c98cd7",
   "metadata": {},
   "outputs": [
    {
     "data": {
      "text/html": [
       "<div>\n",
       "<style scoped>\n",
       "    .dataframe tbody tr th:only-of-type {\n",
       "        vertical-align: middle;\n",
       "    }\n",
       "\n",
       "    .dataframe tbody tr th {\n",
       "        vertical-align: top;\n",
       "    }\n",
       "\n",
       "    .dataframe thead th {\n",
       "        text-align: right;\n",
       "    }\n",
       "</style>\n",
       "<table border=\"1\" class=\"dataframe\">\n",
       "  <thead>\n",
       "    <tr style=\"text-align: right;\">\n",
       "      <th></th>\n",
       "      <th>Fresh</th>\n",
       "      <th>Milk</th>\n",
       "      <th>Grocery</th>\n",
       "      <th>Frozen</th>\n",
       "      <th>Detergents_Paper</th>\n",
       "      <th>Delicatessen</th>\n",
       "    </tr>\n",
       "    <tr>\n",
       "      <th>Channel</th>\n",
       "      <th></th>\n",
       "      <th></th>\n",
       "      <th></th>\n",
       "      <th></th>\n",
       "      <th></th>\n",
       "      <th></th>\n",
       "    </tr>\n",
       "  </thead>\n",
       "  <tbody>\n",
       "    <tr>\n",
       "      <th>Hotel</th>\n",
       "      <td>4015717</td>\n",
       "      <td>1028614</td>\n",
       "      <td>1180717</td>\n",
       "      <td>1116979</td>\n",
       "      <td>235587</td>\n",
       "      <td>421955</td>\n",
       "    </tr>\n",
       "    <tr>\n",
       "      <th>Retail</th>\n",
       "      <td>1264414</td>\n",
       "      <td>1521743</td>\n",
       "      <td>2317845</td>\n",
       "      <td>234671</td>\n",
       "      <td>1032270</td>\n",
       "      <td>248988</td>\n",
       "    </tr>\n",
       "  </tbody>\n",
       "</table>\n",
       "</div>"
      ],
      "text/plain": [
       "           Fresh     Milk  Grocery   Frozen  Detergents_Paper  Delicatessen\n",
       "Channel                                                                    \n",
       "Hotel    4015717  1028614  1180717  1116979            235587        421955\n",
       "Retail   1264414  1521743  2317845   234671           1032270        248988"
      ]
     },
     "execution_count": 14,
     "metadata": {},
     "output_type": "execute_result"
    }
   ],
   "source": [
    "chn_tot"
   ]
  },
  {
   "cell_type": "code",
   "execution_count": 15,
   "id": "343c5d43",
   "metadata": {},
   "outputs": [],
   "source": [
    "t_chn_tot=chn_tot.T"
   ]
  },
  {
   "cell_type": "code",
   "execution_count": 16,
   "id": "af87c95f",
   "metadata": {},
   "outputs": [
    {
     "data": {
      "text/html": [
       "<div>\n",
       "<style scoped>\n",
       "    .dataframe tbody tr th:only-of-type {\n",
       "        vertical-align: middle;\n",
       "    }\n",
       "\n",
       "    .dataframe tbody tr th {\n",
       "        vertical-align: top;\n",
       "    }\n",
       "\n",
       "    .dataframe thead th {\n",
       "        text-align: right;\n",
       "    }\n",
       "</style>\n",
       "<table border=\"1\" class=\"dataframe\">\n",
       "  <thead>\n",
       "    <tr style=\"text-align: right;\">\n",
       "      <th>Channel</th>\n",
       "      <th>Hotel</th>\n",
       "      <th>Retail</th>\n",
       "    </tr>\n",
       "  </thead>\n",
       "  <tbody>\n",
       "    <tr>\n",
       "      <th>Fresh</th>\n",
       "      <td>4015717</td>\n",
       "      <td>1264414</td>\n",
       "    </tr>\n",
       "    <tr>\n",
       "      <th>Milk</th>\n",
       "      <td>1028614</td>\n",
       "      <td>1521743</td>\n",
       "    </tr>\n",
       "    <tr>\n",
       "      <th>Grocery</th>\n",
       "      <td>1180717</td>\n",
       "      <td>2317845</td>\n",
       "    </tr>\n",
       "    <tr>\n",
       "      <th>Frozen</th>\n",
       "      <td>1116979</td>\n",
       "      <td>234671</td>\n",
       "    </tr>\n",
       "    <tr>\n",
       "      <th>Detergents_Paper</th>\n",
       "      <td>235587</td>\n",
       "      <td>1032270</td>\n",
       "    </tr>\n",
       "    <tr>\n",
       "      <th>Delicatessen</th>\n",
       "      <td>421955</td>\n",
       "      <td>248988</td>\n",
       "    </tr>\n",
       "  </tbody>\n",
       "</table>\n",
       "</div>"
      ],
      "text/plain": [
       "Channel             Hotel   Retail\n",
       "Fresh             4015717  1264414\n",
       "Milk              1028614  1521743\n",
       "Grocery           1180717  2317845\n",
       "Frozen            1116979   234671\n",
       "Detergents_Paper   235587  1032270\n",
       "Delicatessen       421955   248988"
      ]
     },
     "execution_count": 16,
     "metadata": {},
     "output_type": "execute_result"
    }
   ],
   "source": [
    "t_chn_tot"
   ]
  },
  {
   "cell_type": "code",
   "execution_count": 17,
   "id": "f8b97528",
   "metadata": {},
   "outputs": [],
   "source": [
    "t_chn_tot.loc['Grand Total',:]=t_chn_tot.sum()"
   ]
  },
  {
   "cell_type": "code",
   "execution_count": 18,
   "id": "12a83d7f",
   "metadata": {},
   "outputs": [
    {
     "data": {
      "text/html": [
       "<div>\n",
       "<style scoped>\n",
       "    .dataframe tbody tr th:only-of-type {\n",
       "        vertical-align: middle;\n",
       "    }\n",
       "\n",
       "    .dataframe tbody tr th {\n",
       "        vertical-align: top;\n",
       "    }\n",
       "\n",
       "    .dataframe thead th {\n",
       "        text-align: right;\n",
       "    }\n",
       "</style>\n",
       "<table border=\"1\" class=\"dataframe\">\n",
       "  <thead>\n",
       "    <tr style=\"text-align: right;\">\n",
       "      <th>Channel</th>\n",
       "      <th>Hotel</th>\n",
       "      <th>Retail</th>\n",
       "    </tr>\n",
       "  </thead>\n",
       "  <tbody>\n",
       "    <tr>\n",
       "      <th>Fresh</th>\n",
       "      <td>4015717.0</td>\n",
       "      <td>1264414.0</td>\n",
       "    </tr>\n",
       "    <tr>\n",
       "      <th>Milk</th>\n",
       "      <td>1028614.0</td>\n",
       "      <td>1521743.0</td>\n",
       "    </tr>\n",
       "    <tr>\n",
       "      <th>Grocery</th>\n",
       "      <td>1180717.0</td>\n",
       "      <td>2317845.0</td>\n",
       "    </tr>\n",
       "    <tr>\n",
       "      <th>Frozen</th>\n",
       "      <td>1116979.0</td>\n",
       "      <td>234671.0</td>\n",
       "    </tr>\n",
       "    <tr>\n",
       "      <th>Detergents_Paper</th>\n",
       "      <td>235587.0</td>\n",
       "      <td>1032270.0</td>\n",
       "    </tr>\n",
       "    <tr>\n",
       "      <th>Delicatessen</th>\n",
       "      <td>421955.0</td>\n",
       "      <td>248988.0</td>\n",
       "    </tr>\n",
       "    <tr>\n",
       "      <th>Grand Total</th>\n",
       "      <td>7999569.0</td>\n",
       "      <td>6619931.0</td>\n",
       "    </tr>\n",
       "  </tbody>\n",
       "</table>\n",
       "</div>"
      ],
      "text/plain": [
       "Channel               Hotel     Retail\n",
       "Fresh             4015717.0  1264414.0\n",
       "Milk              1028614.0  1521743.0\n",
       "Grocery           1180717.0  2317845.0\n",
       "Frozen            1116979.0   234671.0\n",
       "Detergents_Paper   235587.0  1032270.0\n",
       "Delicatessen       421955.0   248988.0\n",
       "Grand Total       7999569.0  6619931.0"
      ]
     },
     "execution_count": 18,
     "metadata": {},
     "output_type": "execute_result"
    }
   ],
   "source": [
    "t_chn_tot"
   ]
  },
  {
   "cell_type": "code",
   "execution_count": 19,
   "id": "ad1a1271",
   "metadata": {},
   "outputs": [
    {
     "data": {
      "image/png": "[encoded data removed]",
      "text/plain": [
       "<Figure size 432x288 with 1 Axes>"
      ]
     },
     "metadata": {},
     "output_type": "display_data"
    }
   ],
   "source": [
    "sns.barplot(data=t_chn_tot);"
   ]
  },
  {
   "cell_type": "code",
   "execution_count": 20,
   "id": "5878fe1d",
   "metadata": {},
   "outputs": [],
   "source": [
    "reg_chn=wca.groupby(['Region','Channel'])[['Fresh','Milk','Grocery','Frozen','Detergents_Paper','Delicatessen']].sum()"
   ]
  },
  {
   "cell_type": "code",
   "execution_count": 21,
   "id": "a7741bb2",
   "metadata": {},
   "outputs": [
    {
     "data": {
      "text/html": [
       "<div>\n",
       "<style scoped>\n",
       "    .dataframe tbody tr th:only-of-type {\n",
       "        vertical-align: middle;\n",
       "    }\n",
       "\n",
       "    .dataframe tbody tr th {\n",
       "        vertical-align: top;\n",
       "    }\n",
       "\n",
       "    .dataframe thead th {\n",
       "        text-align: right;\n",
       "    }\n",
       "</style>\n",
       "<table border=\"1\" class=\"dataframe\">\n",
       "  <thead>\n",
       "    <tr style=\"text-align: right;\">\n",
       "      <th></th>\n",
       "      <th></th>\n",
       "      <th>Fresh</th>\n",
       "      <th>Milk</th>\n",
       "      <th>Grocery</th>\n",
       "      <th>Frozen</th>\n",
       "      <th>Detergents_Paper</th>\n",
       "      <th>Delicatessen</th>\n",
       "    </tr>\n",
       "    <tr>\n",
       "      <th>Region</th>\n",
       "      <th>Channel</th>\n",
       "      <th></th>\n",
       "      <th></th>\n",
       "      <th></th>\n",
       "      <th></th>\n",
       "      <th></th>\n",
       "      <th></th>\n",
       "    </tr>\n",
       "  </thead>\n",
       "  <tbody>\n",
       "    <tr>\n",
       "      <th rowspan=\"2\" valign=\"top\">Lisbon</th>\n",
       "      <th>Hotel</th>\n",
       "      <td>761233</td>\n",
       "      <td>228342</td>\n",
       "      <td>237542</td>\n",
       "      <td>184512</td>\n",
       "      <td>56081</td>\n",
       "      <td>70632</td>\n",
       "    </tr>\n",
       "    <tr>\n",
       "      <th>Retail</th>\n",
       "      <td>93600</td>\n",
       "      <td>194112</td>\n",
       "      <td>332495</td>\n",
       "      <td>46514</td>\n",
       "      <td>148055</td>\n",
       "      <td>33695</td>\n",
       "    </tr>\n",
       "    <tr>\n",
       "      <th rowspan=\"2\" valign=\"top\">Oporto</th>\n",
       "      <th>Hotel</th>\n",
       "      <td>326215</td>\n",
       "      <td>64519</td>\n",
       "      <td>123074</td>\n",
       "      <td>160861</td>\n",
       "      <td>13516</td>\n",
       "      <td>30965</td>\n",
       "    </tr>\n",
       "    <tr>\n",
       "      <th>Retail</th>\n",
       "      <td>138506</td>\n",
       "      <td>174625</td>\n",
       "      <td>310200</td>\n",
       "      <td>29271</td>\n",
       "      <td>159795</td>\n",
       "      <td>23541</td>\n",
       "    </tr>\n",
       "    <tr>\n",
       "      <th rowspan=\"2\" valign=\"top\">Other</th>\n",
       "      <th>Hotel</th>\n",
       "      <td>2928269</td>\n",
       "      <td>735753</td>\n",
       "      <td>820101</td>\n",
       "      <td>771606</td>\n",
       "      <td>165990</td>\n",
       "      <td>320358</td>\n",
       "    </tr>\n",
       "    <tr>\n",
       "      <th>Retail</th>\n",
       "      <td>1032308</td>\n",
       "      <td>1153006</td>\n",
       "      <td>1675150</td>\n",
       "      <td>158886</td>\n",
       "      <td>724420</td>\n",
       "      <td>191752</td>\n",
       "    </tr>\n",
       "  </tbody>\n",
       "</table>\n",
       "</div>"
      ],
      "text/plain": [
       "                  Fresh     Milk  Grocery  Frozen  Detergents_Paper  \\\n",
       "Region Channel                                                        \n",
       "Lisbon Hotel     761233   228342   237542  184512             56081   \n",
       "       Retail     93600   194112   332495   46514            148055   \n",
       "Oporto Hotel     326215    64519   123074  160861             13516   \n",
       "       Retail    138506   174625   310200   29271            159795   \n",
       "Other  Hotel    2928269   735753   820101  771606            165990   \n",
       "       Retail   1032308  1153006  1675150  158886            724420   \n",
       "\n",
       "                Delicatessen  \n",
       "Region Channel                \n",
       "Lisbon Hotel           70632  \n",
       "       Retail          33695  \n",
       "Oporto Hotel           30965  \n",
       "       Retail          23541  \n",
       "Other  Hotel          320358  \n",
       "       Retail         191752  "
      ]
     },
     "execution_count": 21,
     "metadata": {},
     "output_type": "execute_result"
    }
   ],
   "source": [
    "reg_chn"
   ]
  },
  {
   "cell_type": "code",
   "execution_count": 22,
   "id": "8dbec2a0",
   "metadata": {},
   "outputs": [],
   "source": [
    "reg_chn['Sum']=reg_chn.sum(axis=1)"
   ]
  },
  {
   "cell_type": "code",
   "execution_count": 23,
   "id": "eabcdcf6",
   "metadata": {},
   "outputs": [
    {
     "data": {
      "text/html": [
       "<div>\n",
       "<style scoped>\n",
       "    .dataframe tbody tr th:only-of-type {\n",
       "        vertical-align: middle;\n",
       "    }\n",
       "\n",
       "    .dataframe tbody tr th {\n",
       "        vertical-align: top;\n",
       "    }\n",
       "\n",
       "    .dataframe thead th {\n",
       "        text-align: right;\n",
       "    }\n",
       "</style>\n",
       "<table border=\"1\" class=\"dataframe\">\n",
       "  <thead>\n",
       "    <tr style=\"text-align: right;\">\n",
       "      <th></th>\n",
       "      <th></th>\n",
       "      <th>Fresh</th>\n",
       "      <th>Milk</th>\n",
       "      <th>Grocery</th>\n",
       "      <th>Frozen</th>\n",
       "      <th>Detergents_Paper</th>\n",
       "      <th>Delicatessen</th>\n",
       "      <th>Sum</th>\n",
       "    </tr>\n",
       "    <tr>\n",
       "      <th>Region</th>\n",
       "      <th>Channel</th>\n",
       "      <th></th>\n",
       "      <th></th>\n",
       "      <th></th>\n",
       "      <th></th>\n",
       "      <th></th>\n",
       "      <th></th>\n",
       "      <th></th>\n",
       "    </tr>\n",
       "  </thead>\n",
       "  <tbody>\n",
       "    <tr>\n",
       "      <th rowspan=\"2\" valign=\"top\">Lisbon</th>\n",
       "      <th>Hotel</th>\n",
       "      <td>761233</td>\n",
       "      <td>228342</td>\n",
       "      <td>237542</td>\n",
       "      <td>184512</td>\n",
       "      <td>56081</td>\n",
       "      <td>70632</td>\n",
       "      <td>1538342</td>\n",
       "    </tr>\n",
       "    <tr>\n",
       "      <th>Retail</th>\n",
       "      <td>93600</td>\n",
       "      <td>194112</td>\n",
       "      <td>332495</td>\n",
       "      <td>46514</td>\n",
       "      <td>148055</td>\n",
       "      <td>33695</td>\n",
       "      <td>848471</td>\n",
       "    </tr>\n",
       "    <tr>\n",
       "      <th rowspan=\"2\" valign=\"top\">Oporto</th>\n",
       "      <th>Hotel</th>\n",
       "      <td>326215</td>\n",
       "      <td>64519</td>\n",
       "      <td>123074</td>\n",
       "      <td>160861</td>\n",
       "      <td>13516</td>\n",
       "      <td>30965</td>\n",
       "      <td>719150</td>\n",
       "    </tr>\n",
       "    <tr>\n",
       "      <th>Retail</th>\n",
       "      <td>138506</td>\n",
       "      <td>174625</td>\n",
       "      <td>310200</td>\n",
       "      <td>29271</td>\n",
       "      <td>159795</td>\n",
       "      <td>23541</td>\n",
       "      <td>835938</td>\n",
       "    </tr>\n",
       "    <tr>\n",
       "      <th rowspan=\"2\" valign=\"top\">Other</th>\n",
       "      <th>Hotel</th>\n",
       "      <td>2928269</td>\n",
       "      <td>735753</td>\n",
       "      <td>820101</td>\n",
       "      <td>771606</td>\n",
       "      <td>165990</td>\n",
       "      <td>320358</td>\n",
       "      <td>5742077</td>\n",
       "    </tr>\n",
       "    <tr>\n",
       "      <th>Retail</th>\n",
       "      <td>1032308</td>\n",
       "      <td>1153006</td>\n",
       "      <td>1675150</td>\n",
       "      <td>158886</td>\n",
       "      <td>724420</td>\n",
       "      <td>191752</td>\n",
       "      <td>4935522</td>\n",
       "    </tr>\n",
       "  </tbody>\n",
       "</table>\n",
       "</div>"
      ],
      "text/plain": [
       "                  Fresh     Milk  Grocery  Frozen  Detergents_Paper  \\\n",
       "Region Channel                                                        \n",
       "Lisbon Hotel     761233   228342   237542  184512             56081   \n",
       "       Retail     93600   194112   332495   46514            148055   \n",
       "Oporto Hotel     326215    64519   123074  160861             13516   \n",
       "       Retail    138506   174625   310200   29271            159795   \n",
       "Other  Hotel    2928269   735753   820101  771606            165990   \n",
       "       Retail   1032308  1153006  1675150  158886            724420   \n",
       "\n",
       "                Delicatessen      Sum  \n",
       "Region Channel                         \n",
       "Lisbon Hotel           70632  1538342  \n",
       "       Retail          33695   848471  \n",
       "Oporto Hotel           30965   719150  \n",
       "       Retail          23541   835938  \n",
       "Other  Hotel          320358  5742077  \n",
       "       Retail         191752  4935522  "
      ]
     },
     "execution_count": 23,
     "metadata": {},
     "output_type": "execute_result"
    }
   ],
   "source": [
    "reg_chn"
   ]
  },
  {
   "cell_type": "markdown",
   "id": "6ca8f6f6",
   "metadata": {},
   "source": [
    "#### 1.2 There are 6 different varieties of items that are considered. Describe and comment/explain all the varieties across Region and Channel? Provide a detailed justification for your answer."
   ]
  },
  {
   "cell_type": "code",
   "execution_count": 24,
   "id": "445fa1cf",
   "metadata": {},
   "outputs": [],
   "source": [
    "pivot=pd.pivot_table(wca,index=['Region','Channel'],aggfunc='sum')"
   ]
  },
  {
   "cell_type": "code",
   "execution_count": 25,
   "id": "d7029305",
   "metadata": {},
   "outputs": [
    {
     "data": {
      "text/html": [
       "<div>\n",
       "<style scoped>\n",
       "    .dataframe tbody tr th:only-of-type {\n",
       "        vertical-align: middle;\n",
       "    }\n",
       "\n",
       "    .dataframe tbody tr th {\n",
       "        vertical-align: top;\n",
       "    }\n",
       "\n",
       "    .dataframe thead th {\n",
       "        text-align: right;\n",
       "    }\n",
       "</style>\n",
       "<table border=\"1\" class=\"dataframe\">\n",
       "  <thead>\n",
       "    <tr style=\"text-align: right;\">\n",
       "      <th></th>\n",
       "      <th></th>\n",
       "      <th>Buyer/Spender</th>\n",
       "      <th>Delicatessen</th>\n",
       "      <th>Detergents_Paper</th>\n",
       "      <th>Fresh</th>\n",
       "      <th>Frozen</th>\n",
       "      <th>Grocery</th>\n",
       "      <th>Milk</th>\n",
       "    </tr>\n",
       "    <tr>\n",
       "      <th>Region</th>\n",
       "      <th>Channel</th>\n",
       "      <th></th>\n",
       "      <th></th>\n",
       "      <th></th>\n",
       "      <th></th>\n",
       "      <th></th>\n",
       "      <th></th>\n",
       "      <th></th>\n",
       "    </tr>\n",
       "  </thead>\n",
       "  <tbody>\n",
       "    <tr>\n",
       "      <th rowspan=\"2\" valign=\"top\">Lisbon</th>\n",
       "      <th>Hotel</th>\n",
       "      <td>14026</td>\n",
       "      <td>70632</td>\n",
       "      <td>56081</td>\n",
       "      <td>761233</td>\n",
       "      <td>184512</td>\n",
       "      <td>237542</td>\n",
       "      <td>228342</td>\n",
       "    </tr>\n",
       "    <tr>\n",
       "      <th>Retail</th>\n",
       "      <td>4069</td>\n",
       "      <td>33695</td>\n",
       "      <td>148055</td>\n",
       "      <td>93600</td>\n",
       "      <td>46514</td>\n",
       "      <td>332495</td>\n",
       "      <td>194112</td>\n",
       "    </tr>\n",
       "    <tr>\n",
       "      <th rowspan=\"2\" valign=\"top\">Oporto</th>\n",
       "      <th>Hotel</th>\n",
       "      <td>8988</td>\n",
       "      <td>30965</td>\n",
       "      <td>13516</td>\n",
       "      <td>326215</td>\n",
       "      <td>160861</td>\n",
       "      <td>123074</td>\n",
       "      <td>64519</td>\n",
       "    </tr>\n",
       "    <tr>\n",
       "      <th>Retail</th>\n",
       "      <td>5911</td>\n",
       "      <td>23541</td>\n",
       "      <td>159795</td>\n",
       "      <td>138506</td>\n",
       "      <td>29271</td>\n",
       "      <td>310200</td>\n",
       "      <td>174625</td>\n",
       "    </tr>\n",
       "    <tr>\n",
       "      <th rowspan=\"2\" valign=\"top\">Other</th>\n",
       "      <th>Hotel</th>\n",
       "      <td>48020</td>\n",
       "      <td>320358</td>\n",
       "      <td>165990</td>\n",
       "      <td>2928269</td>\n",
       "      <td>771606</td>\n",
       "      <td>820101</td>\n",
       "      <td>735753</td>\n",
       "    </tr>\n",
       "    <tr>\n",
       "      <th>Retail</th>\n",
       "      <td>16006</td>\n",
       "      <td>191752</td>\n",
       "      <td>724420</td>\n",
       "      <td>1032308</td>\n",
       "      <td>158886</td>\n",
       "      <td>1675150</td>\n",
       "      <td>1153006</td>\n",
       "    </tr>\n",
       "  </tbody>\n",
       "</table>\n",
       "</div>"
      ],
      "text/plain": [
       "                Buyer/Spender  Delicatessen  Detergents_Paper    Fresh  \\\n",
       "Region Channel                                                           \n",
       "Lisbon Hotel            14026         70632             56081   761233   \n",
       "       Retail            4069         33695            148055    93600   \n",
       "Oporto Hotel             8988         30965             13516   326215   \n",
       "       Retail            5911         23541            159795   138506   \n",
       "Other  Hotel            48020        320358            165990  2928269   \n",
       "       Retail           16006        191752            724420  1032308   \n",
       "\n",
       "                Frozen  Grocery     Milk  \n",
       "Region Channel                            \n",
       "Lisbon Hotel    184512   237542   228342  \n",
       "       Retail    46514   332495   194112  \n",
       "Oporto Hotel    160861   123074    64519  \n",
       "       Retail    29271   310200   174625  \n",
       "Other  Hotel    771606   820101   735753  \n",
       "       Retail   158886  1675150  1153006  "
      ]
     },
     "execution_count": 25,
     "metadata": {},
     "output_type": "execute_result"
    }
   ],
   "source": [
    "pivot"
   ]
  },
  {
   "cell_type": "code",
   "execution_count": 26,
   "id": "c0e8f7d5",
   "metadata": {},
   "outputs": [],
   "source": [
    "pivot2=pivot.drop('Buyer/Spender',axis=1)"
   ]
  },
  {
   "cell_type": "code",
   "execution_count": 27,
   "id": "3d108238",
   "metadata": {},
   "outputs": [
    {
     "data": {
      "text/html": [
       "<div>\n",
       "<style scoped>\n",
       "    .dataframe tbody tr th:only-of-type {\n",
       "        vertical-align: middle;\n",
       "    }\n",
       "\n",
       "    .dataframe tbody tr th {\n",
       "        vertical-align: top;\n",
       "    }\n",
       "\n",
       "    .dataframe thead th {\n",
       "        text-align: right;\n",
       "    }\n",
       "</style>\n",
       "<table border=\"1\" class=\"dataframe\">\n",
       "  <thead>\n",
       "    <tr style=\"text-align: right;\">\n",
       "      <th></th>\n",
       "      <th></th>\n",
       "      <th>Delicatessen</th>\n",
       "      <th>Detergents_Paper</th>\n",
       "      <th>Fresh</th>\n",
       "      <th>Frozen</th>\n",
       "      <th>Grocery</th>\n",
       "      <th>Milk</th>\n",
       "    </tr>\n",
       "    <tr>\n",
       "      <th>Region</th>\n",
       "      <th>Channel</th>\n",
       "      <th></th>\n",
       "      <th></th>\n",
       "      <th></th>\n",
       "      <th></th>\n",
       "      <th></th>\n",
       "      <th></th>\n",
       "    </tr>\n",
       "  </thead>\n",
       "  <tbody>\n",
       "    <tr>\n",
       "      <th rowspan=\"2\" valign=\"top\">Lisbon</th>\n",
       "      <th>Hotel</th>\n",
       "      <td>70632</td>\n",
       "      <td>56081</td>\n",
       "      <td>761233</td>\n",
       "      <td>184512</td>\n",
       "      <td>237542</td>\n",
       "      <td>228342</td>\n",
       "    </tr>\n",
       "    <tr>\n",
       "      <th>Retail</th>\n",
       "      <td>33695</td>\n",
       "      <td>148055</td>\n",
       "      <td>93600</td>\n",
       "      <td>46514</td>\n",
       "      <td>332495</td>\n",
       "      <td>194112</td>\n",
       "    </tr>\n",
       "    <tr>\n",
       "      <th rowspan=\"2\" valign=\"top\">Oporto</th>\n",
       "      <th>Hotel</th>\n",
       "      <td>30965</td>\n",
       "      <td>13516</td>\n",
       "      <td>326215</td>\n",
       "      <td>160861</td>\n",
       "      <td>123074</td>\n",
       "      <td>64519</td>\n",
       "    </tr>\n",
       "    <tr>\n",
       "      <th>Retail</th>\n",
       "      <td>23541</td>\n",
       "      <td>159795</td>\n",
       "      <td>138506</td>\n",
       "      <td>29271</td>\n",
       "      <td>310200</td>\n",
       "      <td>174625</td>\n",
       "    </tr>\n",
       "    <tr>\n",
       "      <th rowspan=\"2\" valign=\"top\">Other</th>\n",
       "      <th>Hotel</th>\n",
       "      <td>320358</td>\n",
       "      <td>165990</td>\n",
       "      <td>2928269</td>\n",
       "      <td>771606</td>\n",
       "      <td>820101</td>\n",
       "      <td>735753</td>\n",
       "    </tr>\n",
       "    <tr>\n",
       "      <th>Retail</th>\n",
       "      <td>191752</td>\n",
       "      <td>724420</td>\n",
       "      <td>1032308</td>\n",
       "      <td>158886</td>\n",
       "      <td>1675150</td>\n",
       "      <td>1153006</td>\n",
       "    </tr>\n",
       "  </tbody>\n",
       "</table>\n",
       "</div>"
      ],
      "text/plain": [
       "                Delicatessen  Detergents_Paper    Fresh  Frozen  Grocery  \\\n",
       "Region Channel                                                             \n",
       "Lisbon Hotel           70632             56081   761233  184512   237542   \n",
       "       Retail          33695            148055    93600   46514   332495   \n",
       "Oporto Hotel           30965             13516   326215  160861   123074   \n",
       "       Retail          23541            159795   138506   29271   310200   \n",
       "Other  Hotel          320358            165990  2928269  771606   820101   \n",
       "       Retail         191752            724420  1032308  158886  1675150   \n",
       "\n",
       "                   Milk  \n",
       "Region Channel           \n",
       "Lisbon Hotel     228342  \n",
       "       Retail    194112  \n",
       "Oporto Hotel      64519  \n",
       "       Retail    174625  \n",
       "Other  Hotel     735753  \n",
       "       Retail   1153006  "
      ]
     },
     "execution_count": 27,
     "metadata": {},
     "output_type": "execute_result"
    }
   ],
   "source": [
    "pivot2"
   ]
  },
  {
   "cell_type": "code",
   "execution_count": 28,
   "id": "03213e8f",
   "metadata": {},
   "outputs": [],
   "source": [
    "pivot2['Sum']=pivot2.sum(axis=1)"
   ]
  },
  {
   "cell_type": "code",
   "execution_count": 29,
   "id": "a1284f3f",
   "metadata": {},
   "outputs": [
    {
     "data": {
      "text/html": [
       "<div>\n",
       "<style scoped>\n",
       "    .dataframe tbody tr th:only-of-type {\n",
       "        vertical-align: middle;\n",
       "    }\n",
       "\n",
       "    .dataframe tbody tr th {\n",
       "        vertical-align: top;\n",
       "    }\n",
       "\n",
       "    .dataframe thead th {\n",
       "        text-align: right;\n",
       "    }\n",
       "</style>\n",
       "<table border=\"1\" class=\"dataframe\">\n",
       "  <thead>\n",
       "    <tr style=\"text-align: right;\">\n",
       "      <th></th>\n",
       "      <th></th>\n",
       "      <th>Delicatessen</th>\n",
       "      <th>Detergents_Paper</th>\n",
       "      <th>Fresh</th>\n",
       "      <th>Frozen</th>\n",
       "      <th>Grocery</th>\n",
       "      <th>Milk</th>\n",
       "      <th>Sum</th>\n",
       "    </tr>\n",
       "    <tr>\n",
       "      <th>Region</th>\n",
       "      <th>Channel</th>\n",
       "      <th></th>\n",
       "      <th></th>\n",
       "      <th></th>\n",
       "      <th></th>\n",
       "      <th></th>\n",
       "      <th></th>\n",
       "      <th></th>\n",
       "    </tr>\n",
       "  </thead>\n",
       "  <tbody>\n",
       "    <tr>\n",
       "      <th rowspan=\"2\" valign=\"top\">Lisbon</th>\n",
       "      <th>Hotel</th>\n",
       "      <td>70632</td>\n",
       "      <td>56081</td>\n",
       "      <td>761233</td>\n",
       "      <td>184512</td>\n",
       "      <td>237542</td>\n",
       "      <td>228342</td>\n",
       "      <td>1538342</td>\n",
       "    </tr>\n",
       "    <tr>\n",
       "      <th>Retail</th>\n",
       "      <td>33695</td>\n",
       "      <td>148055</td>\n",
       "      <td>93600</td>\n",
       "      <td>46514</td>\n",
       "      <td>332495</td>\n",
       "      <td>194112</td>\n",
       "      <td>848471</td>\n",
       "    </tr>\n",
       "    <tr>\n",
       "      <th rowspan=\"2\" valign=\"top\">Oporto</th>\n",
       "      <th>Hotel</th>\n",
       "      <td>30965</td>\n",
       "      <td>13516</td>\n",
       "      <td>326215</td>\n",
       "      <td>160861</td>\n",
       "      <td>123074</td>\n",
       "      <td>64519</td>\n",
       "      <td>719150</td>\n",
       "    </tr>\n",
       "    <tr>\n",
       "      <th>Retail</th>\n",
       "      <td>23541</td>\n",
       "      <td>159795</td>\n",
       "      <td>138506</td>\n",
       "      <td>29271</td>\n",
       "      <td>310200</td>\n",
       "      <td>174625</td>\n",
       "      <td>835938</td>\n",
       "    </tr>\n",
       "    <tr>\n",
       "      <th rowspan=\"2\" valign=\"top\">Other</th>\n",
       "      <th>Hotel</th>\n",
       "      <td>320358</td>\n",
       "      <td>165990</td>\n",
       "      <td>2928269</td>\n",
       "      <td>771606</td>\n",
       "      <td>820101</td>\n",
       "      <td>735753</td>\n",
       "      <td>5742077</td>\n",
       "    </tr>\n",
       "    <tr>\n",
       "      <th>Retail</th>\n",
       "      <td>191752</td>\n",
       "      <td>724420</td>\n",
       "      <td>1032308</td>\n",
       "      <td>158886</td>\n",
       "      <td>1675150</td>\n",
       "      <td>1153006</td>\n",
       "      <td>4935522</td>\n",
       "    </tr>\n",
       "  </tbody>\n",
       "</table>\n",
       "</div>"
      ],
      "text/plain": [
       "                Delicatessen  Detergents_Paper    Fresh  Frozen  Grocery  \\\n",
       "Region Channel                                                             \n",
       "Lisbon Hotel           70632             56081   761233  184512   237542   \n",
       "       Retail          33695            148055    93600   46514   332495   \n",
       "Oporto Hotel           30965             13516   326215  160861   123074   \n",
       "       Retail          23541            159795   138506   29271   310200   \n",
       "Other  Hotel          320358            165990  2928269  771606   820101   \n",
       "       Retail         191752            724420  1032308  158886  1675150   \n",
       "\n",
       "                   Milk      Sum  \n",
       "Region Channel                    \n",
       "Lisbon Hotel     228342  1538342  \n",
       "       Retail    194112   848471  \n",
       "Oporto Hotel      64519   719150  \n",
       "       Retail    174625   835938  \n",
       "Other  Hotel     735753  5742077  \n",
       "       Retail   1153006  4935522  "
      ]
     },
     "execution_count": 29,
     "metadata": {},
     "output_type": "execute_result"
    }
   ],
   "source": [
    "pivot2"
   ]
  },
  {
   "cell_type": "markdown",
   "id": "56ea04af",
   "metadata": {},
   "source": [
    "#### 1.3 On the basis of a descriptive measure of variability, which item shows the most inconsistent behaviour? Which items show the least inconsistent behaviour?"
   ]
  },
  {
   "cell_type": "code",
   "execution_count": 30,
   "id": "28c7c2dc",
   "metadata": {},
   "outputs": [],
   "source": [
    "std_dev=wca.std()"
   ]
  },
  {
   "cell_type": "code",
   "execution_count": 31,
   "id": "3c23340a",
   "metadata": {},
   "outputs": [
    {
     "data": {
      "text/plain": [
       "Buyer/Spender         127.161315\n",
       "Fresh               12647.328865\n",
       "Milk                 7380.377175\n",
       "Grocery              9503.162829\n",
       "Frozen               4854.673333\n",
       "Detergents_Paper     4767.854448\n",
       "Delicatessen         2820.105937\n",
       "dtype: float64"
      ]
     },
     "execution_count": 31,
     "metadata": {},
     "output_type": "execute_result"
    }
   ],
   "source": [
    "std_dev"
   ]
  },
  {
   "cell_type": "code",
   "execution_count": 32,
   "id": "1d4ada71",
   "metadata": {},
   "outputs": [],
   "source": [
    "mean=wca.mean()"
   ]
  },
  {
   "cell_type": "code",
   "execution_count": 33,
   "id": "078137dd",
   "metadata": {},
   "outputs": [
    {
     "data": {
      "text/plain": [
       "Buyer/Spender         220.500000\n",
       "Fresh               12000.297727\n",
       "Milk                 5796.265909\n",
       "Grocery              7951.277273\n",
       "Frozen               3071.931818\n",
       "Detergents_Paper     2881.493182\n",
       "Delicatessen         1524.870455\n",
       "dtype: float64"
      ]
     },
     "execution_count": 33,
     "metadata": {},
     "output_type": "execute_result"
    }
   ],
   "source": [
    "mean"
   ]
  },
  {
   "cell_type": "code",
   "execution_count": 34,
   "id": "0c552e7f",
   "metadata": {},
   "outputs": [],
   "source": [
    "CV= std_dev/mean"
   ]
  },
  {
   "cell_type": "code",
   "execution_count": 35,
   "id": "a989c07b",
   "metadata": {},
   "outputs": [
    {
     "data": {
      "text/plain": [
       "Buyer/Spender       0.576695\n",
       "Fresh               1.053918\n",
       "Milk                1.273299\n",
       "Grocery             1.195174\n",
       "Frozen              1.580332\n",
       "Detergents_Paper    1.654647\n",
       "Delicatessen        1.849407\n",
       "dtype: float64"
      ]
     },
     "execution_count": 35,
     "metadata": {},
     "output_type": "execute_result"
    }
   ],
   "source": [
    "CV"
   ]
  },
  {
   "cell_type": "markdown",
   "id": "a19a4c8c",
   "metadata": {},
   "source": [
    "#### 1.4 Are there any outliers in the data? Back up your answer with a suitable plot/technique with the help of detailed comments."
   ]
  },
  {
   "cell_type": "code",
   "execution_count": 36,
   "id": "fe19691f",
   "metadata": {},
   "outputs": [],
   "source": [
    "wca2=wca.drop('Buyer/Spender', axis=1)"
   ]
  },
  {
   "cell_type": "code",
   "execution_count": 37,
   "id": "883484c1",
   "metadata": {},
   "outputs": [
    {
     "data": {
      "image/png": "[encoded data removed]",
      "text/plain": [
       "<Figure size 720x576 with 1 Axes>"
      ]
     },
     "metadata": {},
     "output_type": "display_data"
    }
   ],
   "source": [
    "plt.figure(figsize=(10,8))\n",
    "sns.boxplot(data=wca2);"
   ]
  },
  {
   "cell_type": "markdown",
   "id": "c2f7f8c5",
   "metadata": {},
   "source": [
    "### Problem 2\n",
    "\n",
    "The Student News Service at Clear Mountain State University (CMSU) has decided to gather data about the undergraduate students that attend CMSU. CMSU creates and distributes a survey of 14 questions and receives responses from 62 undergraduates."
   ]
  },
  {
   "cell_type": "code",
   "execution_count": 38,
   "id": "84e820a8",
   "metadata": {},
   "outputs": [],
   "source": [
    "news=pd.read_csv('Survey-1.csv')"
   ]
  },
  {
   "cell_type": "code",
   "execution_count": 39,
   "id": "c2e4e3f0",
   "metadata": {},
   "outputs": [
    {
     "data": {
      "text/html": [
       "<div>\n",
       "<style scoped>\n",
       "    .dataframe tbody tr th:only-of-type {\n",
       "        vertical-align: middle;\n",
       "    }\n",
       "\n",
       "    .dataframe tbody tr th {\n",
       "        vertical-align: top;\n",
       "    }\n",
       "\n",
       "    .dataframe thead th {\n",
       "        text-align: right;\n",
       "    }\n",
       "</style>\n",
       "<table border=\"1\" class=\"dataframe\">\n",
       "  <thead>\n",
       "    <tr style=\"text-align: right;\">\n",
       "      <th></th>\n",
       "      <th>ID</th>\n",
       "      <th>Gender</th>\n",
       "      <th>Age</th>\n",
       "      <th>Class</th>\n",
       "      <th>Major</th>\n",
       "      <th>Grad Intention</th>\n",
       "      <th>GPA</th>\n",
       "      <th>Employment</th>\n",
       "      <th>Salary</th>\n",
       "      <th>Social Networking</th>\n",
       "      <th>Satisfaction</th>\n",
       "      <th>Spending</th>\n",
       "      <th>Computer</th>\n",
       "      <th>Text Messages</th>\n",
       "    </tr>\n",
       "  </thead>\n",
       "  <tbody>\n",
       "    <tr>\n",
       "      <th>0</th>\n",
       "      <td>1</td>\n",
       "      <td>Female</td>\n",
       "      <td>20</td>\n",
       "      <td>Junior</td>\n",
       "      <td>Other</td>\n",
       "      <td>Yes</td>\n",
       "      <td>2.9</td>\n",
       "      <td>Full-Time</td>\n",
       "      <td>50.0</td>\n",
       "      <td>1</td>\n",
       "      <td>3</td>\n",
       "      <td>350</td>\n",
       "      <td>Laptop</td>\n",
       "      <td>200</td>\n",
       "    </tr>\n",
       "    <tr>\n",
       "      <th>1</th>\n",
       "      <td>2</td>\n",
       "      <td>Male</td>\n",
       "      <td>23</td>\n",
       "      <td>Senior</td>\n",
       "      <td>Management</td>\n",
       "      <td>Yes</td>\n",
       "      <td>3.6</td>\n",
       "      <td>Part-Time</td>\n",
       "      <td>25.0</td>\n",
       "      <td>1</td>\n",
       "      <td>4</td>\n",
       "      <td>360</td>\n",
       "      <td>Laptop</td>\n",
       "      <td>50</td>\n",
       "    </tr>\n",
       "    <tr>\n",
       "      <th>2</th>\n",
       "      <td>3</td>\n",
       "      <td>Male</td>\n",
       "      <td>21</td>\n",
       "      <td>Junior</td>\n",
       "      <td>Other</td>\n",
       "      <td>Yes</td>\n",
       "      <td>2.5</td>\n",
       "      <td>Part-Time</td>\n",
       "      <td>45.0</td>\n",
       "      <td>2</td>\n",
       "      <td>4</td>\n",
       "      <td>600</td>\n",
       "      <td>Laptop</td>\n",
       "      <td>200</td>\n",
       "    </tr>\n",
       "    <tr>\n",
       "      <th>3</th>\n",
       "      <td>4</td>\n",
       "      <td>Male</td>\n",
       "      <td>21</td>\n",
       "      <td>Junior</td>\n",
       "      <td>CIS</td>\n",
       "      <td>Yes</td>\n",
       "      <td>2.5</td>\n",
       "      <td>Full-Time</td>\n",
       "      <td>40.0</td>\n",
       "      <td>4</td>\n",
       "      <td>6</td>\n",
       "      <td>600</td>\n",
       "      <td>Laptop</td>\n",
       "      <td>250</td>\n",
       "    </tr>\n",
       "    <tr>\n",
       "      <th>4</th>\n",
       "      <td>5</td>\n",
       "      <td>Male</td>\n",
       "      <td>23</td>\n",
       "      <td>Senior</td>\n",
       "      <td>Other</td>\n",
       "      <td>Undecided</td>\n",
       "      <td>2.8</td>\n",
       "      <td>Unemployed</td>\n",
       "      <td>40.0</td>\n",
       "      <td>2</td>\n",
       "      <td>4</td>\n",
       "      <td>500</td>\n",
       "      <td>Laptop</td>\n",
       "      <td>100</td>\n",
       "    </tr>\n",
       "  </tbody>\n",
       "</table>\n",
       "</div>"
      ],
      "text/plain": [
       "   ID  Gender  Age   Class       Major Grad Intention  GPA  Employment  \\\n",
       "0   1  Female   20  Junior       Other            Yes  2.9   Full-Time   \n",
       "1   2    Male   23  Senior  Management            Yes  3.6   Part-Time   \n",
       "2   3    Male   21  Junior       Other            Yes  2.5   Part-Time   \n",
       "3   4    Male   21  Junior         CIS            Yes  2.5   Full-Time   \n",
       "4   5    Male   23  Senior       Other      Undecided  2.8  Unemployed   \n",
       "\n",
       "   Salary  Social Networking  Satisfaction  Spending Computer  Text Messages  \n",
       "0    50.0                  1             3       350   Laptop            200  \n",
       "1    25.0                  1             4       360   Laptop             50  \n",
       "2    45.0                  2             4       600   Laptop            200  \n",
       "3    40.0                  4             6       600   Laptop            250  \n",
       "4    40.0                  2             4       500   Laptop            100  "
      ]
     },
     "execution_count": 39,
     "metadata": {},
     "output_type": "execute_result"
    }
   ],
   "source": [
    "news.head()"
   ]
  },
  {
   "cell_type": "code",
   "execution_count": 40,
   "id": "0e80eb42",
   "metadata": {},
   "outputs": [
    {
     "data": {
      "text/plain": [
       "ID                   0\n",
       "Gender               0\n",
       "Age                  0\n",
       "Class                0\n",
       "Major                0\n",
       "Grad Intention       0\n",
       "GPA                  0\n",
       "Employment           0\n",
       "Salary               0\n",
       "Social Networking    0\n",
       "Satisfaction         0\n",
       "Spending             0\n",
       "Computer             0\n",
       "Text Messages        0\n",
       "dtype: int64"
      ]
     },
     "execution_count": 40,
     "metadata": {},
     "output_type": "execute_result"
    }
   ],
   "source": [
    "news.isnull().sum()"
   ]
  },
  {
   "cell_type": "code",
   "execution_count": 41,
   "id": "ca69c3b8",
   "metadata": {},
   "outputs": [
    {
     "data": {
      "text/html": [
       "<div>\n",
       "<style scoped>\n",
       "    .dataframe tbody tr th:only-of-type {\n",
       "        vertical-align: middle;\n",
       "    }\n",
       "\n",
       "    .dataframe tbody tr th {\n",
       "        vertical-align: top;\n",
       "    }\n",
       "\n",
       "    .dataframe thead th {\n",
       "        text-align: right;\n",
       "    }\n",
       "</style>\n",
       "<table border=\"1\" class=\"dataframe\">\n",
       "  <thead>\n",
       "    <tr style=\"text-align: right;\">\n",
       "      <th></th>\n",
       "      <th>ID</th>\n",
       "      <th>Age</th>\n",
       "      <th>GPA</th>\n",
       "      <th>Salary</th>\n",
       "      <th>Social Networking</th>\n",
       "      <th>Satisfaction</th>\n",
       "      <th>Spending</th>\n",
       "      <th>Text Messages</th>\n",
       "    </tr>\n",
       "  </thead>\n",
       "  <tbody>\n",
       "    <tr>\n",
       "      <th>count</th>\n",
       "      <td>62.000000</td>\n",
       "      <td>62.000000</td>\n",
       "      <td>62.000000</td>\n",
       "      <td>62.000000</td>\n",
       "      <td>62.000000</td>\n",
       "      <td>62.000000</td>\n",
       "      <td>62.000000</td>\n",
       "      <td>62.000000</td>\n",
       "    </tr>\n",
       "    <tr>\n",
       "      <th>mean</th>\n",
       "      <td>31.500000</td>\n",
       "      <td>21.129032</td>\n",
       "      <td>3.129032</td>\n",
       "      <td>48.548387</td>\n",
       "      <td>1.516129</td>\n",
       "      <td>3.741935</td>\n",
       "      <td>482.016129</td>\n",
       "      <td>246.209677</td>\n",
       "    </tr>\n",
       "    <tr>\n",
       "      <th>std</th>\n",
       "      <td>18.041619</td>\n",
       "      <td>1.431311</td>\n",
       "      <td>0.377388</td>\n",
       "      <td>12.080912</td>\n",
       "      <td>0.844305</td>\n",
       "      <td>1.213793</td>\n",
       "      <td>221.953805</td>\n",
       "      <td>214.465950</td>\n",
       "    </tr>\n",
       "    <tr>\n",
       "      <th>min</th>\n",
       "      <td>1.000000</td>\n",
       "      <td>18.000000</td>\n",
       "      <td>2.300000</td>\n",
       "      <td>25.000000</td>\n",
       "      <td>0.000000</td>\n",
       "      <td>1.000000</td>\n",
       "      <td>100.000000</td>\n",
       "      <td>0.000000</td>\n",
       "    </tr>\n",
       "    <tr>\n",
       "      <th>25%</th>\n",
       "      <td>16.250000</td>\n",
       "      <td>20.000000</td>\n",
       "      <td>2.900000</td>\n",
       "      <td>40.000000</td>\n",
       "      <td>1.000000</td>\n",
       "      <td>3.000000</td>\n",
       "      <td>312.500000</td>\n",
       "      <td>100.000000</td>\n",
       "    </tr>\n",
       "    <tr>\n",
       "      <th>50%</th>\n",
       "      <td>31.500000</td>\n",
       "      <td>21.000000</td>\n",
       "      <td>3.150000</td>\n",
       "      <td>50.000000</td>\n",
       "      <td>1.000000</td>\n",
       "      <td>4.000000</td>\n",
       "      <td>500.000000</td>\n",
       "      <td>200.000000</td>\n",
       "    </tr>\n",
       "    <tr>\n",
       "      <th>75%</th>\n",
       "      <td>46.750000</td>\n",
       "      <td>22.000000</td>\n",
       "      <td>3.400000</td>\n",
       "      <td>55.000000</td>\n",
       "      <td>2.000000</td>\n",
       "      <td>4.000000</td>\n",
       "      <td>600.000000</td>\n",
       "      <td>300.000000</td>\n",
       "    </tr>\n",
       "    <tr>\n",
       "      <th>max</th>\n",
       "      <td>62.000000</td>\n",
       "      <td>26.000000</td>\n",
       "      <td>3.900000</td>\n",
       "      <td>80.000000</td>\n",
       "      <td>4.000000</td>\n",
       "      <td>6.000000</td>\n",
       "      <td>1400.000000</td>\n",
       "      <td>900.000000</td>\n",
       "    </tr>\n",
       "  </tbody>\n",
       "</table>\n",
       "</div>"
      ],
      "text/plain": [
       "              ID        Age        GPA     Salary  Social Networking  \\\n",
       "count  62.000000  62.000000  62.000000  62.000000          62.000000   \n",
       "mean   31.500000  21.129032   3.129032  48.548387           1.516129   \n",
       "std    18.041619   1.431311   0.377388  12.080912           0.844305   \n",
       "min     1.000000  18.000000   2.300000  25.000000           0.000000   \n",
       "25%    16.250000  20.000000   2.900000  40.000000           1.000000   \n",
       "50%    31.500000  21.000000   3.150000  50.000000           1.000000   \n",
       "75%    46.750000  22.000000   3.400000  55.000000           2.000000   \n",
       "max    62.000000  26.000000   3.900000  80.000000           4.000000   \n",
       "\n",
       "       Satisfaction     Spending  Text Messages  \n",
       "count     62.000000    62.000000      62.000000  \n",
       "mean       3.741935   482.016129     246.209677  \n",
       "std        1.213793   221.953805     214.465950  \n",
       "min        1.000000   100.000000       0.000000  \n",
       "25%        3.000000   312.500000     100.000000  \n",
       "50%        4.000000   500.000000     200.000000  \n",
       "75%        4.000000   600.000000     300.000000  \n",
       "max        6.000000  1400.000000     900.000000  "
      ]
     },
     "execution_count": 41,
     "metadata": {},
     "output_type": "execute_result"
    }
   ],
   "source": [
    "news.describe()"
   ]
  },
  {
   "cell_type": "markdown",
   "id": "5fce67b1",
   "metadata": {},
   "source": [
    "#### 2.1. For this data, construct the following contingency tables (Keep Gender as row variable)"
   ]
  },
  {
   "cell_type": "markdown",
   "id": "735cefbc",
   "metadata": {},
   "source": [
    "###### 2.1.1. Gender and Major"
   ]
  },
  {
   "cell_type": "code",
   "execution_count": 42,
   "id": "aa142934",
   "metadata": {},
   "outputs": [],
   "source": [
    "gm=pd.crosstab(index=news['Gender'],columns=news['Major'])"
   ]
  },
  {
   "cell_type": "code",
   "execution_count": 43,
   "id": "28fa1eae",
   "metadata": {},
   "outputs": [
    {
     "data": {
      "text/html": [
       "<div>\n",
       "<style scoped>\n",
       "    .dataframe tbody tr th:only-of-type {\n",
       "        vertical-align: middle;\n",
       "    }\n",
       "\n",
       "    .dataframe tbody tr th {\n",
       "        vertical-align: top;\n",
       "    }\n",
       "\n",
       "    .dataframe thead th {\n",
       "        text-align: right;\n",
       "    }\n",
       "</style>\n",
       "<table border=\"1\" class=\"dataframe\">\n",
       "  <thead>\n",
       "    <tr style=\"text-align: right;\">\n",
       "      <th>Major</th>\n",
       "      <th>Accounting</th>\n",
       "      <th>CIS</th>\n",
       "      <th>Economics/Finance</th>\n",
       "      <th>International Business</th>\n",
       "      <th>Management</th>\n",
       "      <th>Other</th>\n",
       "      <th>Retailing/Marketing</th>\n",
       "      <th>Undecided</th>\n",
       "    </tr>\n",
       "    <tr>\n",
       "      <th>Gender</th>\n",
       "      <th></th>\n",
       "      <th></th>\n",
       "      <th></th>\n",
       "      <th></th>\n",
       "      <th></th>\n",
       "      <th></th>\n",
       "      <th></th>\n",
       "      <th></th>\n",
       "    </tr>\n",
       "  </thead>\n",
       "  <tbody>\n",
       "    <tr>\n",
       "      <th>Female</th>\n",
       "      <td>3</td>\n",
       "      <td>3</td>\n",
       "      <td>7</td>\n",
       "      <td>4</td>\n",
       "      <td>4</td>\n",
       "      <td>3</td>\n",
       "      <td>9</td>\n",
       "      <td>0</td>\n",
       "    </tr>\n",
       "    <tr>\n",
       "      <th>Male</th>\n",
       "      <td>4</td>\n",
       "      <td>1</td>\n",
       "      <td>4</td>\n",
       "      <td>2</td>\n",
       "      <td>6</td>\n",
       "      <td>4</td>\n",
       "      <td>5</td>\n",
       "      <td>3</td>\n",
       "    </tr>\n",
       "  </tbody>\n",
       "</table>\n",
       "</div>"
      ],
      "text/plain": [
       "Major   Accounting  CIS  Economics/Finance  International Business  \\\n",
       "Gender                                                               \n",
       "Female           3    3                  7                       4   \n",
       "Male             4    1                  4                       2   \n",
       "\n",
       "Major   Management  Other  Retailing/Marketing  Undecided  \n",
       "Gender                                                     \n",
       "Female           4      3                    9          0  \n",
       "Male             6      4                    5          3  "
      ]
     },
     "execution_count": 43,
     "metadata": {},
     "output_type": "execute_result"
    }
   ],
   "source": [
    "gm"
   ]
  },
  {
   "cell_type": "markdown",
   "id": "42b178a5",
   "metadata": {},
   "source": [
    "###### 2.1.2. Gender and Grad Intention"
   ]
  },
  {
   "cell_type": "code",
   "execution_count": 44,
   "id": "4bd12d1a",
   "metadata": {},
   "outputs": [],
   "source": [
    "gg=pd.crosstab(index=news['Gender'],columns=news['Grad Intention'])"
   ]
  },
  {
   "cell_type": "code",
   "execution_count": 45,
   "id": "2d6108da",
   "metadata": {},
   "outputs": [
    {
     "data": {
      "text/html": [
       "<div>\n",
       "<style scoped>\n",
       "    .dataframe tbody tr th:only-of-type {\n",
       "        vertical-align: middle;\n",
       "    }\n",
       "\n",
       "    .dataframe tbody tr th {\n",
       "        vertical-align: top;\n",
       "    }\n",
       "\n",
       "    .dataframe thead th {\n",
       "        text-align: right;\n",
       "    }\n",
       "</style>\n",
       "<table border=\"1\" class=\"dataframe\">\n",
       "  <thead>\n",
       "    <tr style=\"text-align: right;\">\n",
       "      <th>Grad Intention</th>\n",
       "      <th>No</th>\n",
       "      <th>Undecided</th>\n",
       "      <th>Yes</th>\n",
       "    </tr>\n",
       "    <tr>\n",
       "      <th>Gender</th>\n",
       "      <th></th>\n",
       "      <th></th>\n",
       "      <th></th>\n",
       "    </tr>\n",
       "  </thead>\n",
       "  <tbody>\n",
       "    <tr>\n",
       "      <th>Female</th>\n",
       "      <td>9</td>\n",
       "      <td>13</td>\n",
       "      <td>11</td>\n",
       "    </tr>\n",
       "    <tr>\n",
       "      <th>Male</th>\n",
       "      <td>3</td>\n",
       "      <td>9</td>\n",
       "      <td>17</td>\n",
       "    </tr>\n",
       "  </tbody>\n",
       "</table>\n",
       "</div>"
      ],
      "text/plain": [
       "Grad Intention  No  Undecided  Yes\n",
       "Gender                            \n",
       "Female           9         13   11\n",
       "Male             3          9   17"
      ]
     },
     "execution_count": 45,
     "metadata": {},
     "output_type": "execute_result"
    }
   ],
   "source": [
    "gg"
   ]
  },
  {
   "cell_type": "markdown",
   "id": "dc324509",
   "metadata": {},
   "source": [
    "###### 2.1.3. Gender and Employment"
   ]
  },
  {
   "cell_type": "code",
   "execution_count": 46,
   "id": "f83ef90e",
   "metadata": {},
   "outputs": [],
   "source": [
    "ge=pd.crosstab(index=news['Gender'],columns=news['Employment'])"
   ]
  },
  {
   "cell_type": "code",
   "execution_count": 47,
   "id": "b24f4835",
   "metadata": {},
   "outputs": [
    {
     "data": {
      "text/html": [
       "<div>\n",
       "<style scoped>\n",
       "    .dataframe tbody tr th:only-of-type {\n",
       "        vertical-align: middle;\n",
       "    }\n",
       "\n",
       "    .dataframe tbody tr th {\n",
       "        vertical-align: top;\n",
       "    }\n",
       "\n",
       "    .dataframe thead th {\n",
       "        text-align: right;\n",
       "    }\n",
       "</style>\n",
       "<table border=\"1\" class=\"dataframe\">\n",
       "  <thead>\n",
       "    <tr style=\"text-align: right;\">\n",
       "      <th>Employment</th>\n",
       "      <th>Full-Time</th>\n",
       "      <th>Part-Time</th>\n",
       "      <th>Unemployed</th>\n",
       "    </tr>\n",
       "    <tr>\n",
       "      <th>Gender</th>\n",
       "      <th></th>\n",
       "      <th></th>\n",
       "      <th></th>\n",
       "    </tr>\n",
       "  </thead>\n",
       "  <tbody>\n",
       "    <tr>\n",
       "      <th>Female</th>\n",
       "      <td>3</td>\n",
       "      <td>24</td>\n",
       "      <td>6</td>\n",
       "    </tr>\n",
       "    <tr>\n",
       "      <th>Male</th>\n",
       "      <td>7</td>\n",
       "      <td>19</td>\n",
       "      <td>3</td>\n",
       "    </tr>\n",
       "  </tbody>\n",
       "</table>\n",
       "</div>"
      ],
      "text/plain": [
       "Employment  Full-Time  Part-Time  Unemployed\n",
       "Gender                                      \n",
       "Female              3         24           6\n",
       "Male                7         19           3"
      ]
     },
     "execution_count": 47,
     "metadata": {},
     "output_type": "execute_result"
    }
   ],
   "source": [
    "ge"
   ]
  },
  {
   "cell_type": "markdown",
   "id": "bf1b36b2",
   "metadata": {},
   "source": [
    "###### 2.1.4. Gender and Computer"
   ]
  },
  {
   "cell_type": "code",
   "execution_count": 48,
   "id": "11d95d58",
   "metadata": {},
   "outputs": [],
   "source": [
    "gc=pd.crosstab(index=news['Gender'],columns=news['Computer'])"
   ]
  },
  {
   "cell_type": "code",
   "execution_count": 49,
   "id": "20b46d1d",
   "metadata": {},
   "outputs": [
    {
     "data": {
      "text/html": [
       "<div>\n",
       "<style scoped>\n",
       "    .dataframe tbody tr th:only-of-type {\n",
       "        vertical-align: middle;\n",
       "    }\n",
       "\n",
       "    .dataframe tbody tr th {\n",
       "        vertical-align: top;\n",
       "    }\n",
       "\n",
       "    .dataframe thead th {\n",
       "        text-align: right;\n",
       "    }\n",
       "</style>\n",
       "<table border=\"1\" class=\"dataframe\">\n",
       "  <thead>\n",
       "    <tr style=\"text-align: right;\">\n",
       "      <th>Computer</th>\n",
       "      <th>Desktop</th>\n",
       "      <th>Laptop</th>\n",
       "      <th>Tablet</th>\n",
       "    </tr>\n",
       "    <tr>\n",
       "      <th>Gender</th>\n",
       "      <th></th>\n",
       "      <th></th>\n",
       "      <th></th>\n",
       "    </tr>\n",
       "  </thead>\n",
       "  <tbody>\n",
       "    <tr>\n",
       "      <th>Female</th>\n",
       "      <td>2</td>\n",
       "      <td>29</td>\n",
       "      <td>2</td>\n",
       "    </tr>\n",
       "    <tr>\n",
       "      <th>Male</th>\n",
       "      <td>3</td>\n",
       "      <td>26</td>\n",
       "      <td>0</td>\n",
       "    </tr>\n",
       "  </tbody>\n",
       "</table>\n",
       "</div>"
      ],
      "text/plain": [
       "Computer  Desktop  Laptop  Tablet\n",
       "Gender                           \n",
       "Female          2      29       2\n",
       "Male            3      26       0"
      ]
     },
     "execution_count": 49,
     "metadata": {},
     "output_type": "execute_result"
    }
   ],
   "source": [
    "gc"
   ]
  },
  {
   "cell_type": "markdown",
   "id": "67d016f5",
   "metadata": {},
   "source": [
    "#### 2.2. Assume that the sample is representative of the population of CMSU. Based on the data, answer the following question:"
   ]
  },
  {
   "cell_type": "code",
   "execution_count": 50,
   "id": "915cad08",
   "metadata": {},
   "outputs": [
    {
     "data": {
      "text/plain": [
       "Female    33\n",
       "Male      29\n",
       "Name: Gender, dtype: int64"
      ]
     },
     "execution_count": 50,
     "metadata": {},
     "output_type": "execute_result"
    }
   ],
   "source": [
    "news['Gender'].value_counts()"
   ]
  },
  {
   "cell_type": "markdown",
   "id": "cf0e358e",
   "metadata": {},
   "source": [
    "###### 2.2.1. What is the probability that a randomly selected CMSU student will be male?"
   ]
  },
  {
   "cell_type": "code",
   "execution_count": 51,
   "id": "06364df9",
   "metadata": {},
   "outputs": [
    {
     "data": {
      "text/plain": [
       "46.774193548387096"
      ]
     },
     "execution_count": 51,
     "metadata": {},
     "output_type": "execute_result"
    }
   ],
   "source": [
    "(29/62)*100"
   ]
  },
  {
   "cell_type": "markdown",
   "id": "bf2e094b",
   "metadata": {},
   "source": [
    "###### 2.2.2. What is the probability that a randomly selected CMSU student will be female?"
   ]
  },
  {
   "cell_type": "code",
   "execution_count": 52,
   "id": "97429536",
   "metadata": {},
   "outputs": [
    {
     "data": {
      "text/plain": [
       "53.2258064516129"
      ]
     },
     "execution_count": 52,
     "metadata": {},
     "output_type": "execute_result"
    }
   ],
   "source": [
    "(33/62)*100"
   ]
  },
  {
   "cell_type": "markdown",
   "id": "dd9e9b02",
   "metadata": {},
   "source": [
    "#### 2.3. Assume that the sample is representative of the population of CMSU. Based on the data, answer the following question:"
   ]
  },
  {
   "cell_type": "markdown",
   "id": "d6f8285a",
   "metadata": {},
   "source": [
    "###### 2.3.1. Find the conditional probability of different majors among the male students in CMSU."
   ]
  },
  {
   "cell_type": "code",
   "execution_count": 53,
   "id": "9f3fc1c2",
   "metadata": {},
   "outputs": [
    {
     "data": {
      "text/html": [
       "<div>\n",
       "<style scoped>\n",
       "    .dataframe tbody tr th:only-of-type {\n",
       "        vertical-align: middle;\n",
       "    }\n",
       "\n",
       "    .dataframe tbody tr th {\n",
       "        vertical-align: top;\n",
       "    }\n",
       "\n",
       "    .dataframe thead th {\n",
       "        text-align: right;\n",
       "    }\n",
       "</style>\n",
       "<table border=\"1\" class=\"dataframe\">\n",
       "  <thead>\n",
       "    <tr style=\"text-align: right;\">\n",
       "      <th>Major</th>\n",
       "      <th>Accounting</th>\n",
       "      <th>CIS</th>\n",
       "      <th>Economics/Finance</th>\n",
       "      <th>International Business</th>\n",
       "      <th>Management</th>\n",
       "      <th>Other</th>\n",
       "      <th>Retailing/Marketing</th>\n",
       "      <th>Undecided</th>\n",
       "    </tr>\n",
       "    <tr>\n",
       "      <th>Gender</th>\n",
       "      <th></th>\n",
       "      <th></th>\n",
       "      <th></th>\n",
       "      <th></th>\n",
       "      <th></th>\n",
       "      <th></th>\n",
       "      <th></th>\n",
       "      <th></th>\n",
       "    </tr>\n",
       "  </thead>\n",
       "  <tbody>\n",
       "    <tr>\n",
       "      <th>Female</th>\n",
       "      <td>3</td>\n",
       "      <td>3</td>\n",
       "      <td>7</td>\n",
       "      <td>4</td>\n",
       "      <td>4</td>\n",
       "      <td>3</td>\n",
       "      <td>9</td>\n",
       "      <td>0</td>\n",
       "    </tr>\n",
       "    <tr>\n",
       "      <th>Male</th>\n",
       "      <td>4</td>\n",
       "      <td>1</td>\n",
       "      <td>4</td>\n",
       "      <td>2</td>\n",
       "      <td>6</td>\n",
       "      <td>4</td>\n",
       "      <td>5</td>\n",
       "      <td>3</td>\n",
       "    </tr>\n",
       "  </tbody>\n",
       "</table>\n",
       "</div>"
      ],
      "text/plain": [
       "Major   Accounting  CIS  Economics/Finance  International Business  \\\n",
       "Gender                                                               \n",
       "Female           3    3                  7                       4   \n",
       "Male             4    1                  4                       2   \n",
       "\n",
       "Major   Management  Other  Retailing/Marketing  Undecided  \n",
       "Gender                                                     \n",
       "Female           4      3                    9          0  \n",
       "Male             6      4                    5          3  "
      ]
     },
     "execution_count": 53,
     "metadata": {},
     "output_type": "execute_result"
    }
   ],
   "source": [
    "gm"
   ]
  },
  {
   "cell_type": "code",
   "execution_count": 54,
   "id": "76a4a535",
   "metadata": {},
   "outputs": [],
   "source": [
    "t_gm=gm.T"
   ]
  },
  {
   "cell_type": "code",
   "execution_count": 55,
   "id": "b26148a8",
   "metadata": {},
   "outputs": [
    {
     "data": {
      "text/plain": [
       "Major\n",
       "Accounting                4\n",
       "CIS                       1\n",
       "Economics/Finance         4\n",
       "International Business    2\n",
       "Management                6\n",
       "Other                     4\n",
       "Retailing/Marketing       5\n",
       "Undecided                 3\n",
       "Name: Male, dtype: int64"
      ]
     },
     "execution_count": 55,
     "metadata": {},
     "output_type": "execute_result"
    }
   ],
   "source": [
    "t_gm['Male']"
   ]
  },
  {
   "cell_type": "code",
   "execution_count": 56,
   "id": "9a10e499",
   "metadata": {},
   "outputs": [
    {
     "data": {
      "text/plain": [
       "Major\n",
       "Accounting                13.793103\n",
       "CIS                        3.448276\n",
       "Economics/Finance         13.793103\n",
       "International Business     6.896552\n",
       "Management                20.689655\n",
       "Other                     13.793103\n",
       "Retailing/Marketing       17.241379\n",
       "Undecided                 10.344828\n",
       "Name: Male, dtype: float64"
      ]
     },
     "execution_count": 56,
     "metadata": {},
     "output_type": "execute_result"
    }
   ],
   "source": [
    "(t_gm['Male']/29)*100"
   ]
  },
  {
   "cell_type": "markdown",
   "id": "9d918e33",
   "metadata": {},
   "source": [
    "###### 2.3.2 Find the conditional probability of different majors among the female students of CMSU."
   ]
  },
  {
   "cell_type": "code",
   "execution_count": 57,
   "id": "84388d94",
   "metadata": {},
   "outputs": [
    {
     "data": {
      "text/plain": [
       "Major\n",
       "Accounting                3\n",
       "CIS                       3\n",
       "Economics/Finance         7\n",
       "International Business    4\n",
       "Management                4\n",
       "Other                     3\n",
       "Retailing/Marketing       9\n",
       "Undecided                 0\n",
       "Name: Female, dtype: int64"
      ]
     },
     "execution_count": 57,
     "metadata": {},
     "output_type": "execute_result"
    }
   ],
   "source": [
    "t_gm['Female']"
   ]
  },
  {
   "cell_type": "code",
   "execution_count": 58,
   "id": "71597428",
   "metadata": {},
   "outputs": [
    {
     "data": {
      "text/plain": [
       "Major\n",
       "Accounting                 9.090909\n",
       "CIS                        9.090909\n",
       "Economics/Finance         21.212121\n",
       "International Business    12.121212\n",
       "Management                12.121212\n",
       "Other                      9.090909\n",
       "Retailing/Marketing       27.272727\n",
       "Undecided                  0.000000\n",
       "Name: Female, dtype: float64"
      ]
     },
     "execution_count": 58,
     "metadata": {},
     "output_type": "execute_result"
    }
   ],
   "source": [
    "(t_gm['Female']/33)*100"
   ]
  },
  {
   "cell_type": "markdown",
   "id": "e26d7b94",
   "metadata": {},
   "source": [
    "#### 2.4. Assume that the sample is a representative of the population of CMSU. Based on the data, answer the following question:"
   ]
  },
  {
   "cell_type": "markdown",
   "id": "a875d443",
   "metadata": {},
   "source": [
    "###### 2.4.1. Find the probability That a randomly chosen student is a male and intends to graduate."
   ]
  },
  {
   "cell_type": "code",
   "execution_count": 59,
   "id": "3efc46e3",
   "metadata": {},
   "outputs": [
    {
     "data": {
      "text/html": [
       "<div>\n",
       "<style scoped>\n",
       "    .dataframe tbody tr th:only-of-type {\n",
       "        vertical-align: middle;\n",
       "    }\n",
       "\n",
       "    .dataframe tbody tr th {\n",
       "        vertical-align: top;\n",
       "    }\n",
       "\n",
       "    .dataframe thead th {\n",
       "        text-align: right;\n",
       "    }\n",
       "</style>\n",
       "<table border=\"1\" class=\"dataframe\">\n",
       "  <thead>\n",
       "    <tr style=\"text-align: right;\">\n",
       "      <th>Grad Intention</th>\n",
       "      <th>No</th>\n",
       "      <th>Undecided</th>\n",
       "      <th>Yes</th>\n",
       "    </tr>\n",
       "    <tr>\n",
       "      <th>Gender</th>\n",
       "      <th></th>\n",
       "      <th></th>\n",
       "      <th></th>\n",
       "    </tr>\n",
       "  </thead>\n",
       "  <tbody>\n",
       "    <tr>\n",
       "      <th>Female</th>\n",
       "      <td>9</td>\n",
       "      <td>13</td>\n",
       "      <td>11</td>\n",
       "    </tr>\n",
       "    <tr>\n",
       "      <th>Male</th>\n",
       "      <td>3</td>\n",
       "      <td>9</td>\n",
       "      <td>17</td>\n",
       "    </tr>\n",
       "  </tbody>\n",
       "</table>\n",
       "</div>"
      ],
      "text/plain": [
       "Grad Intention  No  Undecided  Yes\n",
       "Gender                            \n",
       "Female           9         13   11\n",
       "Male             3          9   17"
      ]
     },
     "execution_count": 59,
     "metadata": {},
     "output_type": "execute_result"
    }
   ],
   "source": [
    "gg"
   ]
  },
  {
   "cell_type": "code",
   "execution_count": 60,
   "id": "4aa9a144",
   "metadata": {},
   "outputs": [
    {
     "data": {
      "text/plain": [
       "58.620689655172406"
      ]
     },
     "execution_count": 60,
     "metadata": {},
     "output_type": "execute_result"
    }
   ],
   "source": [
    "(17/29)*100"
   ]
  },
  {
   "cell_type": "markdown",
   "id": "a1126b96",
   "metadata": {},
   "source": [
    "###### 2.4.2 Find the probability that a randomly selected student is a female and does NOT have a laptop. "
   ]
  },
  {
   "cell_type": "code",
   "execution_count": 61,
   "id": "7f335711",
   "metadata": {},
   "outputs": [
    {
     "data": {
      "text/html": [
       "<div>\n",
       "<style scoped>\n",
       "    .dataframe tbody tr th:only-of-type {\n",
       "        vertical-align: middle;\n",
       "    }\n",
       "\n",
       "    .dataframe tbody tr th {\n",
       "        vertical-align: top;\n",
       "    }\n",
       "\n",
       "    .dataframe thead th {\n",
       "        text-align: right;\n",
       "    }\n",
       "</style>\n",
       "<table border=\"1\" class=\"dataframe\">\n",
       "  <thead>\n",
       "    <tr style=\"text-align: right;\">\n",
       "      <th>Computer</th>\n",
       "      <th>Desktop</th>\n",
       "      <th>Laptop</th>\n",
       "      <th>Tablet</th>\n",
       "    </tr>\n",
       "    <tr>\n",
       "      <th>Gender</th>\n",
       "      <th></th>\n",
       "      <th></th>\n",
       "      <th></th>\n",
       "    </tr>\n",
       "  </thead>\n",
       "  <tbody>\n",
       "    <tr>\n",
       "      <th>Female</th>\n",
       "      <td>2</td>\n",
       "      <td>29</td>\n",
       "      <td>2</td>\n",
       "    </tr>\n",
       "    <tr>\n",
       "      <th>Male</th>\n",
       "      <td>3</td>\n",
       "      <td>26</td>\n",
       "      <td>0</td>\n",
       "    </tr>\n",
       "  </tbody>\n",
       "</table>\n",
       "</div>"
      ],
      "text/plain": [
       "Computer  Desktop  Laptop  Tablet\n",
       "Gender                           \n",
       "Female          2      29       2\n",
       "Male            3      26       0"
      ]
     },
     "execution_count": 61,
     "metadata": {},
     "output_type": "execute_result"
    }
   ],
   "source": [
    "gc"
   ]
  },
  {
   "cell_type": "code",
   "execution_count": 62,
   "id": "fdd04a20",
   "metadata": {},
   "outputs": [
    {
     "data": {
      "text/plain": [
       "12.121212121212121"
      ]
     },
     "execution_count": 62,
     "metadata": {},
     "output_type": "execute_result"
    }
   ],
   "source": [
    "(4/33)*100"
   ]
  },
  {
   "cell_type": "markdown",
   "id": "7e767185",
   "metadata": {},
   "source": [
    "#### 2.5. Assume that the sample is representative of the population of CMSU. Based on the data, answer the following question:"
   ]
  },
  {
   "cell_type": "markdown",
   "id": "7e5aef2d",
   "metadata": {},
   "source": [
    "###### 2.5.1. Find the probability that a randomly chosen student is a male or has full-time employment?"
   ]
  },
  {
   "cell_type": "code",
   "execution_count": 63,
   "id": "e600fec3",
   "metadata": {},
   "outputs": [
    {
     "data": {
      "text/html": [
       "<div>\n",
       "<style scoped>\n",
       "    .dataframe tbody tr th:only-of-type {\n",
       "        vertical-align: middle;\n",
       "    }\n",
       "\n",
       "    .dataframe tbody tr th {\n",
       "        vertical-align: top;\n",
       "    }\n",
       "\n",
       "    .dataframe thead th {\n",
       "        text-align: right;\n",
       "    }\n",
       "</style>\n",
       "<table border=\"1\" class=\"dataframe\">\n",
       "  <thead>\n",
       "    <tr style=\"text-align: right;\">\n",
       "      <th>Employment</th>\n",
       "      <th>Full-Time</th>\n",
       "      <th>Part-Time</th>\n",
       "      <th>Unemployed</th>\n",
       "    </tr>\n",
       "    <tr>\n",
       "      <th>Gender</th>\n",
       "      <th></th>\n",
       "      <th></th>\n",
       "      <th></th>\n",
       "    </tr>\n",
       "  </thead>\n",
       "  <tbody>\n",
       "    <tr>\n",
       "      <th>Female</th>\n",
       "      <td>3</td>\n",
       "      <td>24</td>\n",
       "      <td>6</td>\n",
       "    </tr>\n",
       "    <tr>\n",
       "      <th>Male</th>\n",
       "      <td>7</td>\n",
       "      <td>19</td>\n",
       "      <td>3</td>\n",
       "    </tr>\n",
       "  </tbody>\n",
       "</table>\n",
       "</div>"
      ],
      "text/plain": [
       "Employment  Full-Time  Part-Time  Unemployed\n",
       "Gender                                      \n",
       "Female              3         24           6\n",
       "Male                7         19           3"
      ]
     },
     "execution_count": 63,
     "metadata": {},
     "output_type": "execute_result"
    }
   ],
   "source": [
    "ge"
   ]
  },
  {
   "cell_type": "code",
   "execution_count": 64,
   "id": "bd3c619e",
   "metadata": {},
   "outputs": [
    {
     "data": {
      "text/plain": [
       "51.61290322580645"
      ]
     },
     "execution_count": 64,
     "metadata": {},
     "output_type": "execute_result"
    }
   ],
   "source": [
    "((29/62)+(10/62)-(7/62))*100"
   ]
  },
  {
   "cell_type": "markdown",
   "id": "e1d7cd29",
   "metadata": {},
   "source": [
    "###### 2.5.2. Find the conditional probability that given a female student is randomly chosen, she is majoring in international business or management."
   ]
  },
  {
   "cell_type": "code",
   "execution_count": 65,
   "id": "d5f85882",
   "metadata": {},
   "outputs": [
    {
     "data": {
      "text/html": [
       "<div>\n",
       "<style scoped>\n",
       "    .dataframe tbody tr th:only-of-type {\n",
       "        vertical-align: middle;\n",
       "    }\n",
       "\n",
       "    .dataframe tbody tr th {\n",
       "        vertical-align: top;\n",
       "    }\n",
       "\n",
       "    .dataframe thead th {\n",
       "        text-align: right;\n",
       "    }\n",
       "</style>\n",
       "<table border=\"1\" class=\"dataframe\">\n",
       "  <thead>\n",
       "    <tr style=\"text-align: right;\">\n",
       "      <th>Major</th>\n",
       "      <th>Accounting</th>\n",
       "      <th>CIS</th>\n",
       "      <th>Economics/Finance</th>\n",
       "      <th>International Business</th>\n",
       "      <th>Management</th>\n",
       "      <th>Other</th>\n",
       "      <th>Retailing/Marketing</th>\n",
       "      <th>Undecided</th>\n",
       "    </tr>\n",
       "    <tr>\n",
       "      <th>Gender</th>\n",
       "      <th></th>\n",
       "      <th></th>\n",
       "      <th></th>\n",
       "      <th></th>\n",
       "      <th></th>\n",
       "      <th></th>\n",
       "      <th></th>\n",
       "      <th></th>\n",
       "    </tr>\n",
       "  </thead>\n",
       "  <tbody>\n",
       "    <tr>\n",
       "      <th>Female</th>\n",
       "      <td>3</td>\n",
       "      <td>3</td>\n",
       "      <td>7</td>\n",
       "      <td>4</td>\n",
       "      <td>4</td>\n",
       "      <td>3</td>\n",
       "      <td>9</td>\n",
       "      <td>0</td>\n",
       "    </tr>\n",
       "    <tr>\n",
       "      <th>Male</th>\n",
       "      <td>4</td>\n",
       "      <td>1</td>\n",
       "      <td>4</td>\n",
       "      <td>2</td>\n",
       "      <td>6</td>\n",
       "      <td>4</td>\n",
       "      <td>5</td>\n",
       "      <td>3</td>\n",
       "    </tr>\n",
       "  </tbody>\n",
       "</table>\n",
       "</div>"
      ],
      "text/plain": [
       "Major   Accounting  CIS  Economics/Finance  International Business  \\\n",
       "Gender                                                               \n",
       "Female           3    3                  7                       4   \n",
       "Male             4    1                  4                       2   \n",
       "\n",
       "Major   Management  Other  Retailing/Marketing  Undecided  \n",
       "Gender                                                     \n",
       "Female           4      3                    9          0  \n",
       "Male             6      4                    5          3  "
      ]
     },
     "execution_count": 65,
     "metadata": {},
     "output_type": "execute_result"
    }
   ],
   "source": [
    "gm\n"
   ]
  },
  {
   "cell_type": "code",
   "execution_count": 66,
   "id": "42155dda",
   "metadata": {},
   "outputs": [
    {
     "data": {
      "text/plain": [
       "24.242424242424242"
      ]
     },
     "execution_count": 66,
     "metadata": {},
     "output_type": "execute_result"
    }
   ],
   "source": [
    "((4/33)+(4/33))*100"
   ]
  },
  {
   "cell_type": "markdown",
   "id": "cd863291",
   "metadata": {},
   "source": [
    "#### 2.6.  Construct a contingency table of Gender and Intent to Graduate at 2 levels (Yes/No). The Undecided students are not considered now and the table is a 2x2 table. Do you think the graduate intention and being female are independent events?"
   ]
  },
  {
   "cell_type": "code",
   "execution_count": 67,
   "id": "ed845990",
   "metadata": {},
   "outputs": [],
   "source": [
    "gg2=gg.drop('Undecided',axis=1)"
   ]
  },
  {
   "cell_type": "code",
   "execution_count": 68,
   "id": "e61d1bad",
   "metadata": {},
   "outputs": [
    {
     "data": {
      "text/html": [
       "<div>\n",
       "<style scoped>\n",
       "    .dataframe tbody tr th:only-of-type {\n",
       "        vertical-align: middle;\n",
       "    }\n",
       "\n",
       "    .dataframe tbody tr th {\n",
       "        vertical-align: top;\n",
       "    }\n",
       "\n",
       "    .dataframe thead th {\n",
       "        text-align: right;\n",
       "    }\n",
       "</style>\n",
       "<table border=\"1\" class=\"dataframe\">\n",
       "  <thead>\n",
       "    <tr style=\"text-align: right;\">\n",
       "      <th>Grad Intention</th>\n",
       "      <th>No</th>\n",
       "      <th>Yes</th>\n",
       "    </tr>\n",
       "    <tr>\n",
       "      <th>Gender</th>\n",
       "      <th></th>\n",
       "      <th></th>\n",
       "    </tr>\n",
       "  </thead>\n",
       "  <tbody>\n",
       "    <tr>\n",
       "      <th>Female</th>\n",
       "      <td>9</td>\n",
       "      <td>11</td>\n",
       "    </tr>\n",
       "    <tr>\n",
       "      <th>Male</th>\n",
       "      <td>3</td>\n",
       "      <td>17</td>\n",
       "    </tr>\n",
       "  </tbody>\n",
       "</table>\n",
       "</div>"
      ],
      "text/plain": [
       "Grad Intention  No  Yes\n",
       "Gender                 \n",
       "Female           9   11\n",
       "Male             3   17"
      ]
     },
     "execution_count": 68,
     "metadata": {},
     "output_type": "execute_result"
    }
   ],
   "source": [
    "gg2"
   ]
  },
  {
   "cell_type": "markdown",
   "id": "285c8c64",
   "metadata": {},
   "source": [
    "#### 2.7. Note that there are four numerical (continuous) variables in the data set, GPA, Salary, Spending, and Text Messages."
   ]
  },
  {
   "cell_type": "markdown",
   "id": "4a193074",
   "metadata": {},
   "source": [
    "###### 2.7.1. If a student is chosen randomly, what is the probability that his/her GPA is less than 3?"
   ]
  },
  {
   "cell_type": "code",
   "execution_count": 97,
   "id": "be552b9f",
   "metadata": {},
   "outputs": [],
   "source": [
    "gpa3=pd.crosstab(index=news['Gender'],columns=news['GPA']<3)"
   ]
  },
  {
   "cell_type": "code",
   "execution_count": 98,
   "id": "795a7307",
   "metadata": {},
   "outputs": [
    {
     "data": {
      "text/html": [
       "<div>\n",
       "<style scoped>\n",
       "    .dataframe tbody tr th:only-of-type {\n",
       "        vertical-align: middle;\n",
       "    }\n",
       "\n",
       "    .dataframe tbody tr th {\n",
       "        vertical-align: top;\n",
       "    }\n",
       "\n",
       "    .dataframe thead th {\n",
       "        text-align: right;\n",
       "    }\n",
       "</style>\n",
       "<table border=\"1\" class=\"dataframe\">\n",
       "  <thead>\n",
       "    <tr style=\"text-align: right;\">\n",
       "      <th>GPA</th>\n",
       "      <th>False</th>\n",
       "      <th>True</th>\n",
       "    </tr>\n",
       "    <tr>\n",
       "      <th>Gender</th>\n",
       "      <th></th>\n",
       "      <th></th>\n",
       "    </tr>\n",
       "  </thead>\n",
       "  <tbody>\n",
       "    <tr>\n",
       "      <th>Female</th>\n",
       "      <td>25</td>\n",
       "      <td>8</td>\n",
       "    </tr>\n",
       "    <tr>\n",
       "      <th>Male</th>\n",
       "      <td>20</td>\n",
       "      <td>9</td>\n",
       "    </tr>\n",
       "  </tbody>\n",
       "</table>\n",
       "</div>"
      ],
      "text/plain": [
       "GPA     False  True \n",
       "Gender              \n",
       "Female     25      8\n",
       "Male       20      9"
      ]
     },
     "execution_count": 98,
     "metadata": {},
     "output_type": "execute_result"
    }
   ],
   "source": [
    "gpa3"
   ]
  },
  {
   "cell_type": "code",
   "execution_count": 72,
   "id": "66c6e1b2",
   "metadata": {},
   "outputs": [
    {
     "data": {
      "text/plain": [
       "27.419354838709676"
      ]
     },
     "execution_count": 72,
     "metadata": {},
     "output_type": "execute_result"
    }
   ],
   "source": [
    "(17/62)*100"
   ]
  },
  {
   "cell_type": "markdown",
   "id": "fbb61f06",
   "metadata": {},
   "source": [
    "###### 2.7.2. Find the conditional probability that a randomly selected male earns 50 or more. Find the conditional probability that a randomly selected female earns 50 or more."
   ]
  },
  {
   "cell_type": "code",
   "execution_count": 73,
   "id": "5f234092",
   "metadata": {},
   "outputs": [],
   "source": [
    "g_earn=pd.crosstab(index=news['Salary']>=50,columns=news['Gender'])"
   ]
  },
  {
   "cell_type": "code",
   "execution_count": 74,
   "id": "0868cd2c",
   "metadata": {},
   "outputs": [
    {
     "data": {
      "text/html": [
       "<div>\n",
       "<style scoped>\n",
       "    .dataframe tbody tr th:only-of-type {\n",
       "        vertical-align: middle;\n",
       "    }\n",
       "\n",
       "    .dataframe tbody tr th {\n",
       "        vertical-align: top;\n",
       "    }\n",
       "\n",
       "    .dataframe thead th {\n",
       "        text-align: right;\n",
       "    }\n",
       "</style>\n",
       "<table border=\"1\" class=\"dataframe\">\n",
       "  <thead>\n",
       "    <tr style=\"text-align: right;\">\n",
       "      <th>Gender</th>\n",
       "      <th>Female</th>\n",
       "      <th>Male</th>\n",
       "    </tr>\n",
       "    <tr>\n",
       "      <th>Salary</th>\n",
       "      <th></th>\n",
       "      <th></th>\n",
       "    </tr>\n",
       "  </thead>\n",
       "  <tbody>\n",
       "    <tr>\n",
       "      <th>False</th>\n",
       "      <td>15</td>\n",
       "      <td>15</td>\n",
       "    </tr>\n",
       "    <tr>\n",
       "      <th>True</th>\n",
       "      <td>18</td>\n",
       "      <td>14</td>\n",
       "    </tr>\n",
       "  </tbody>\n",
       "</table>\n",
       "</div>"
      ],
      "text/plain": [
       "Gender  Female  Male\n",
       "Salary              \n",
       "False       15    15\n",
       "True        18    14"
      ]
     },
     "execution_count": 74,
     "metadata": {},
     "output_type": "execute_result"
    }
   ],
   "source": [
    "g_earn"
   ]
  },
  {
   "cell_type": "code",
   "execution_count": 75,
   "id": "9512ac48",
   "metadata": {},
   "outputs": [
    {
     "data": {
      "text/plain": [
       "48.275862068965516"
      ]
     },
     "execution_count": 75,
     "metadata": {},
     "output_type": "execute_result"
    }
   ],
   "source": [
    "(14/29)*100"
   ]
  },
  {
   "cell_type": "code",
   "execution_count": 76,
   "id": "c52b0af3",
   "metadata": {},
   "outputs": [
    {
     "data": {
      "text/plain": [
       "54.54545454545454"
      ]
     },
     "execution_count": 76,
     "metadata": {},
     "output_type": "execute_result"
    }
   ],
   "source": [
    "(18/33)*100"
   ]
  },
  {
   "cell_type": "markdown",
   "id": "fd2a6743",
   "metadata": {},
   "source": [
    "#### 2.8. Note that there are four numerical (continuous) variables in the data set, GPA, Salary, Spending, and Text Messages. For each of them comment whether they follow a normal distribution. Write a note summarizing your conclusions."
   ]
  },
  {
   "cell_type": "markdown",
   "id": "95e90264",
   "metadata": {},
   "source": [
    "##### We are going to perform Shapiro's Test to check the normal distribution of \"GPA\" in the given dataset, along with histogram"
   ]
  },
  {
   "cell_type": "markdown",
   "id": "65028cbd",
   "metadata": {},
   "source": [
    "##### For Shapiro's Test,\n",
    "\n",
    "H0 is \"GPA\" is normally distributed\n",
    "\n",
    "H1 is \"GPA\" is not normally distributed\n",
    "\n",
    "Alpha is 0.05"
   ]
  },
  {
   "cell_type": "code",
   "execution_count": 77,
   "id": "9bbd8944",
   "metadata": {},
   "outputs": [
    {
     "data": {
      "text/plain": [
       "ShapiroResult(statistic=0.9685361981391907, pvalue=0.11204058676958084)"
      ]
     },
     "execution_count": 77,
     "metadata": {},
     "output_type": "execute_result"
    }
   ],
   "source": [
    "stats.shapiro(news['GPA'])"
   ]
  },
  {
   "cell_type": "markdown",
   "id": "1899c3ca",
   "metadata": {},
   "source": [
    "##### Shapiro's Test indicates that p value is equal to 0.11204058676958084. Which is greater than 0.05, hence we fail to reject null hypothesis. With 95% confidence level we can say that \"GPA\" is normally distributed."
   ]
  },
  {
   "cell_type": "markdown",
   "id": "1f5ec61d",
   "metadata": {},
   "source": [
    "#### We are going to perform Shapiro's Test to check the normal distribution of \"Salary\" in the given dataset, along with histogram\n",
    "For Shapiro's Test,\n",
    "H0 is \"Salary\" is normally distributed\n",
    "\n",
    "H1 is \"Salary\" is not normally distributed\n",
    "\n",
    "Alpha is 0.05"
   ]
  },
  {
   "cell_type": "code",
   "execution_count": 79,
   "id": "beb3daa9",
   "metadata": {},
   "outputs": [
    {
     "data": {
      "text/plain": [
       "ShapiroResult(statistic=0.9565856456756592, pvalue=0.028000956401228905)"
      ]
     },
     "execution_count": 79,
     "metadata": {},
     "output_type": "execute_result"
    }
   ],
   "source": [
    "stats.shapiro(news['Salary'])"
   ]
  },
  {
   "cell_type": "markdown",
   "id": "c76374c1",
   "metadata": {},
   "source": [
    "##### Shapiro's Test indicates that p value is equal to 0.028000956401228905. Which is smaller than 0.05, hence we  reject null hypothesis. We have enough evidence to reject the null hypothesis in favour of alternative hypothesis. We can say that \"Salary\" is not normally distributed."
   ]
  },
  {
   "cell_type": "markdown",
   "id": "5f6888b1",
   "metadata": {},
   "source": [
    "#### We are going to perform Shapiro's Test to check the normal distribution of \"Spending\" in the given dataset, along with histogram\n",
    "For Shapiro's Test, H0 is \"Spending\" is normally distributed\n",
    "\n",
    "H1 is \"Spending\" is not normally distributed\n",
    "\n",
    "Alpha is 0.05"
   ]
  },
  {
   "cell_type": "code",
   "execution_count": 81,
   "id": "19e987ba",
   "metadata": {},
   "outputs": [
    {
     "data": {
      "text/plain": [
       "ShapiroResult(statistic=0.8777452111244202, pvalue=1.6854661225806922e-05)"
      ]
     },
     "execution_count": 81,
     "metadata": {},
     "output_type": "execute_result"
    }
   ],
   "source": [
    "stats.shapiro(news['Spending'])"
   ]
  },
  {
   "cell_type": "markdown",
   "id": "e18a4a72",
   "metadata": {},
   "source": [
    "#### Shapiro's Test indicates that p value is equal to 1.6854661225806922e-05. Which is smaller than 0.05, hence we reject null hypothesis.We have enough evidence to reject the null hypothesis in favour of alternative hypothesis. We can say that \"Spending\" is not normally distributed."
   ]
  },
  {
   "cell_type": "markdown",
   "id": "dbdf792f",
   "metadata": {},
   "source": [
    "##### We are going to perform Shapiro's Test to check the normal distribution of \"Text Messages\" in the given dataset, along with histogram\n",
    "For Shapiro's Test, H0 is \"Text Messages\" is normally distributed\n",
    "\n",
    "H1 is \"Text Messages\" is not normally distributed\n",
    "\n",
    "Alpha is 0.05"
   ]
  },
  {
   "cell_type": "code",
   "execution_count": 83,
   "id": "cc784bdd",
   "metadata": {},
   "outputs": [
    {
     "data": {
      "text/plain": [
       "ShapiroResult(statistic=0.8594191074371338, pvalue=4.324040673964191e-06)"
      ]
     },
     "execution_count": 83,
     "metadata": {},
     "output_type": "execute_result"
    }
   ],
   "source": [
    "stats.shapiro(news['Text Messages'])"
   ]
  },
  {
   "cell_type": "markdown",
   "id": "fff81e1e",
   "metadata": {},
   "source": [
    "##### Shapiro's Test indicates that p value is equal to 4.324040673964191e-06. Which is smaller than 0.05, hence we reject null hypothesis.We have enough evidence to reject the null hypothesis in favour of alternative hypothesis. We can say that \"Text Messages\" is not normally distributed."
   ]
  },
  {
   "cell_type": "markdown",
   "id": "fb8d3ffb",
   "metadata": {},
   "source": [
    "### An important quality characteristic used by the manufacturers of ABC asphalt shingles is the amount of moisture the shingles contain when they are packaged. Customers may feel that they have purchased a product lacking in quality if they find moisture and wet shingles inside the packaging.   In some cases, excessive moisture can cause the granules attached to the shingles for texture and coloring purposes to fall off the shingles resulting in appearance problems. To monitor the amount of moisture present, the company conducts moisture tests. A shingle is weighed and then dried. The shingle is then reweighed, and based on the amount of moisture taken out of the product, the pounds of moisture per 100 square feet are calculated. The company would like to show that the mean moisture content is less than 0.35 pounds per 100 square feet."
   ]
  },
  {
   "cell_type": "code",
   "execution_count": 85,
   "id": "1376426f",
   "metadata": {},
   "outputs": [],
   "source": [
    "shingles=pd.read_csv('A+&+B+shingles.csv')"
   ]
  },
  {
   "cell_type": "code",
   "execution_count": 86,
   "id": "e9cb5ccd",
   "metadata": {},
   "outputs": [
    {
     "data": {
      "text/html": [
       "<div>\n",
       "<style scoped>\n",
       "    .dataframe tbody tr th:only-of-type {\n",
       "        vertical-align: middle;\n",
       "    }\n",
       "\n",
       "    .dataframe tbody tr th {\n",
       "        vertical-align: top;\n",
       "    }\n",
       "\n",
       "    .dataframe thead th {\n",
       "        text-align: right;\n",
       "    }\n",
       "</style>\n",
       "<table border=\"1\" class=\"dataframe\">\n",
       "  <thead>\n",
       "    <tr style=\"text-align: right;\">\n",
       "      <th></th>\n",
       "      <th>A</th>\n",
       "      <th>B</th>\n",
       "    </tr>\n",
       "  </thead>\n",
       "  <tbody>\n",
       "    <tr>\n",
       "      <th>0</th>\n",
       "      <td>0.44</td>\n",
       "      <td>0.14</td>\n",
       "    </tr>\n",
       "    <tr>\n",
       "      <th>1</th>\n",
       "      <td>0.61</td>\n",
       "      <td>0.15</td>\n",
       "    </tr>\n",
       "    <tr>\n",
       "      <th>2</th>\n",
       "      <td>0.47</td>\n",
       "      <td>0.31</td>\n",
       "    </tr>\n",
       "    <tr>\n",
       "      <th>3</th>\n",
       "      <td>0.30</td>\n",
       "      <td>0.16</td>\n",
       "    </tr>\n",
       "    <tr>\n",
       "      <th>4</th>\n",
       "      <td>0.15</td>\n",
       "      <td>0.37</td>\n",
       "    </tr>\n",
       "  </tbody>\n",
       "</table>\n",
       "</div>"
      ],
      "text/plain": [
       "      A     B\n",
       "0  0.44  0.14\n",
       "1  0.61  0.15\n",
       "2  0.47  0.31\n",
       "3  0.30  0.16\n",
       "4  0.15  0.37"
      ]
     },
     "execution_count": 86,
     "metadata": {},
     "output_type": "execute_result"
    }
   ],
   "source": [
    "shingles.head()"
   ]
  },
  {
   "cell_type": "code",
   "execution_count": 87,
   "id": "10454cfa",
   "metadata": {},
   "outputs": [
    {
     "data": {
      "text/plain": [
       "A    0\n",
       "B    5\n",
       "dtype: int64"
      ]
     },
     "execution_count": 87,
     "metadata": {},
     "output_type": "execute_result"
    }
   ],
   "source": [
    "shingles.isnull().sum()"
   ]
  },
  {
   "cell_type": "markdown",
   "id": "4943dec2",
   "metadata": {},
   "source": [
    "### 3.1 Do you think there is evidence that means moisture contents in both types of shingles are within the permissible limits? State your conclusions clearly showing all steps."
   ]
  },
  {
   "cell_type": "markdown",
   "id": "a8b3bf77",
   "metadata": {},
   "source": [
    "###### H0 >=0.35\n",
    "H1<0.35\n",
    "\n",
    "alpha=0.05"
   ]
  },
  {
   "cell_type": "code",
   "execution_count": 88,
   "id": "3e9ad878",
   "metadata": {},
   "outputs": [],
   "source": [
    "t_statistic, p_value = stats.ttest_1samp(shingles.A, 0.35)"
   ]
  },
  {
   "cell_type": "code",
   "execution_count": 89,
   "id": "2b7b50c7",
   "metadata": {},
   "outputs": [
    {
     "data": {
      "text/plain": [
       "-1.4735046253382782"
      ]
     },
     "execution_count": 89,
     "metadata": {},
     "output_type": "execute_result"
    }
   ],
   "source": [
    "t_statistic"
   ]
  },
  {
   "cell_type": "code",
   "execution_count": 90,
   "id": "c6d1e212",
   "metadata": {},
   "outputs": [
    {
     "data": {
      "text/plain": [
       "0.07477633144907513"
      ]
     },
     "execution_count": 90,
     "metadata": {},
     "output_type": "execute_result"
    }
   ],
   "source": [
    "p_value/2"
   ]
  },
  {
   "cell_type": "markdown",
   "id": "d6d88a7f",
   "metadata": {},
   "source": [
    "###### Since p_value > 0.05, we fail to reject H0 . There is not enough evidence to conclude that the mean moisture content for Sample A shingles is less than 0.35 pounds per 100 square feet."
   ]
  },
  {
   "cell_type": "code",
   "execution_count": 91,
   "id": "817d2fb7",
   "metadata": {},
   "outputs": [],
   "source": [
    "t_statistic, p_value = stats.ttest_1samp(shingles.B, 0.35,nan_policy='omit')"
   ]
  },
  {
   "cell_type": "code",
   "execution_count": 92,
   "id": "44192d00",
   "metadata": {},
   "outputs": [
    {
     "data": {
      "text/plain": [
       "-3.1003313069986995"
      ]
     },
     "execution_count": 92,
     "metadata": {},
     "output_type": "execute_result"
    }
   ],
   "source": [
    "t_statistic"
   ]
  },
  {
   "cell_type": "code",
   "execution_count": 93,
   "id": "73138c01",
   "metadata": {},
   "outputs": [
    {
     "data": {
      "text/plain": [
       "0.0020904774003191826"
      ]
     },
     "execution_count": 93,
     "metadata": {},
     "output_type": "execute_result"
    }
   ],
   "source": [
    "p_value/2"
   ]
  },
  {
   "cell_type": "markdown",
   "id": "79c2f20a",
   "metadata": {},
   "source": [
    "###### Since p_value < 0.05, reject H0 . There is enough evidence to conclude that the mean moisture content for Sample B shingles is less than 0.35 pounds per 100 square feet."
   ]
  },
  {
   "cell_type": "markdown",
   "id": "226e1fdf",
   "metadata": {},
   "source": [
    "##### 3.2 Do you think that the population mean for shingles A and B are equal? Form the hypothesis and conduct the test of the hypothesis. What assumption do you need to check before the test for equality of means is performed?"
   ]
  },
  {
   "cell_type": "markdown",
   "id": "c25a81d4",
   "metadata": {},
   "source": [
    "### H0 : μ(A)= μ(B)  \n",
    "\n",
    "H1 : μ(A)!= μ(B)  \n",
    "\n",
    "alpha = 0.05  \n"
   ]
  },
  {
   "cell_type": "code",
   "execution_count": 94,
   "id": "a3fc84dc",
   "metadata": {},
   "outputs": [],
   "source": [
    "t_statistic,p_value=stats.ttest_ind(shingles['A'],shingles['B'] ,equal_var=True,nan_policy='omit') "
   ]
  },
  {
   "cell_type": "code",
   "execution_count": 95,
   "id": "6c192cf0",
   "metadata": {},
   "outputs": [
    {
     "data": {
      "text/plain": [
       "1.2896282719661123"
      ]
     },
     "execution_count": 95,
     "metadata": {},
     "output_type": "execute_result"
    }
   ],
   "source": [
    "t_statistic"
   ]
  },
  {
   "cell_type": "code",
   "execution_count": 96,
   "id": "b999ab5d",
   "metadata": {},
   "outputs": [
    {
     "data": {
      "text/plain": [
       "0.2017496571835306"
      ]
     },
     "execution_count": 96,
     "metadata": {},
     "output_type": "execute_result"
    }
   ],
   "source": [
    "p_value"
   ]
  },
  {
   "cell_type": "markdown",
   "id": "674eb364",
   "metadata": {},
   "source": [
    "###### As the p_value > 0.05 , we fail to reject H0; and we can say that population mean for shingles A and B are equal. Test Assumptions, When running a two-sample t-test, the basic assumptions are that the distributions of the two populations are normal and variance is same."
   ]
  },
  {
   "cell_type": "code",
   "execution_count": null,
   "id": "3610330d",
   "metadata": {},
   "outputs": [],
   "source": []
  }
 ],
 "metadata": {
  "kernelspec": {
   "display_name": "Python 3",
   "language": "python",
   "name": "python3"
  },
  "language_info": {
   "codemirror_mode": {
    "name": "ipython",
    "version": 3
   },
   "file_extension": ".py",
   "mimetype": "text/x-python",
   "name": "python",
   "nbconvert_exporter": "python",
   "pygments_lexer": "ipython3",
   "version": "3.8.8"
  }
 },
 "nbformat": 4,
 "nbformat_minor": 5
}
